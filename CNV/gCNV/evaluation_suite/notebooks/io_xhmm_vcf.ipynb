{
 "cells": [
  {
   "cell_type": "code",
   "execution_count": 3,
   "metadata": {},
   "outputs": [],
   "source": [
    "import germline_cnv_evaluation as cnv_eval\n",
    "import logging\n",
    "import os\n",
    "\n",
    "logging.basicConfig(level=logging.INFO,\n",
    "                    format='%(asctime)s %(name)-12s %(levelname)-8s %(message)s',\n",
    "                    datefmt='%m-%d %H:%M')\n",
    "\n",
    "_logger = logging.getLogger(__name__)"
   ]
  },
  {
   "cell_type": "code",
   "execution_count": null,
   "metadata": {},
   "outputs": [
    {
     "name": "stderr",
     "output_type": "stream",
     "text": [
      "04-03 13:51 germline_cnv_evaluation.io_xhmm_vcf INFO     Reading record number 0...\n",
      "04-03 13:51 germline_cnv_evaluation.io_xhmm_vcf INFO     Reading record number 500...\n"
     ]
    }
   ],
   "source": [
    "root = \"/Volumes/dsde_working/mehrtash/gCNV_theano_eval_new/GPC2-WES/other_tools/XHMM\"\n",
    "xhmm_vcf_file = os.path.join(root, \"GPC2-without-low-complexity-filter.vcf\")\n",
    "xhmm_interval_list_file = \"/Volumes/dsde_working/mehrtash/gCNV_theano_eval_new/resources/\\\n",
    "agilent.hg19.pd250.PAR_removed.interval_list\"\n",
    "\n",
    "call_set, included_intervals = cnv_eval.load_xhmm_vcf_file(\n",
    "    xhmm_vcf_file,\n",
    "    xhmm_interval_list_file,\n",
    "    min_overlap_fraction_for_variant_matching=0.5)"
   ]
  },
  {
   "cell_type": "code",
   "execution_count": 71,
   "metadata": {},
   "outputs": [],
   "source": [
    "cnv_eval.GenericCNVCallSet.to_pickle(\n",
    "    os.path.join(root, \"GPC2-WES_XHMM_segments_callset__CNV_eval_suite_ver__{0}__.pkl\".format(\n",
    "        cnv_eval.__version__)), call_set, included_intervals)"
   ]
  }
 ],
 "metadata": {
  "kernelspec": {
   "display_name": "Python 3",
   "language": "python",
   "name": "python3"
  },
  "language_info": {
   "codemirror_mode": {
    "name": "ipython",
    "version": 3
   },
   "file_extension": ".py",
   "mimetype": "text/x-python",
   "name": "python",
   "nbconvert_exporter": "python",
   "pygments_lexer": "ipython3",
   "version": "3.6.3"
  }
 },
 "nbformat": 4,
 "nbformat_minor": 2
}
