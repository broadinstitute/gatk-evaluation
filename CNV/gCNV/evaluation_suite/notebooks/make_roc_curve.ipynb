{
 "cells": [
  {
   "cell_type": "code",
   "execution_count": 5,
   "metadata": {},
   "outputs": [],
   "source": [
    "%matplotlib inline\n",
    "\n",
    "import numpy as np\n",
    "import matplotlib.pylab as plt\n",
    "import os\n",
    "import logging\n",
    "import germline_cnv_evaluation as cnv_eval\n",
    "\n",
    "logging.basicConfig(level=logging.INFO,\n",
    "                    format='%(asctime)s %(name)-12s %(levelname)-8s %(message)s',\n",
    "                    datefmt='%m-%d %H:%M')\n"
   ]
  },
  {
   "cell_type": "code",
   "execution_count": 6,
   "metadata": {},
   "outputs": [],
   "source": [
    "truth_var_only_call_set_pkl = '/Volumes/dsde_working/mehrtash/gCNV_theano_eval_new/GPC2-WES/gs/\\\n",
    "gpc2_gs_callset_v3__CNV_eval_suite_ver__0.1__.pkl'\n",
    "\n",
    "# load pickled results\n",
    "truth_call_set_dict, truth_included_loci = cnv_eval.GenericCNVCallSet.from_pickle(truth_var_only_call_set_pkl)\n",
    "\n",
    "# for GS calls: no need to pad segments before merging (by design, the best segment for each sample\n",
    "# is already there)\n",
    "truth_merge_padding = 0\n",
    "\n",
    "# for GS calls: choose the highest quality segment from the overlapping set (it is reasonable\n",
    "# to assume that the highest quality segment for each sample is the right call for that sample)\n",
    "truth_merge_interval_consensus_strategy = 'highest_quality'\n",
    "\n",
    "# for GS calls: the intervals end-points are the same as the highest quality segment\n",
    "truth_merge_call_consensus_strategy = 'highest_quality'\n",
    "\n",
    "# merge overlapping segments\n",
    "truth_merged_call_set_dict = dict()\n",
    "for sample_name in truth_call_set_dict.keys():\n",
    "    truth_merged_call_set_dict[sample_name] = truth_call_set_dict[sample_name].merge_overlapping_variants(\n",
    "        truth_merge_padding,\n",
    "        interval_consensus_strategy=truth_merge_interval_consensus_strategy,\n",
    "        call_consensus_strategy=truth_merge_call_consensus_strategy)"
   ]
  },
  {
   "cell_type": "code",
   "execution_count": 82,
   "metadata": {},
   "outputs": [],
   "source": [
    "# load pickled variant-only trial call-sets\n",
    "trial_call_set_dicts = list()\n",
    "trial_included_loci_list = list()\n",
    "\n",
    "gcnv_var_only_call_set_pkl = '/Volumes/dsde_working/mehrtash/gCNV_theano_eval_new/GPC2-WES/output/\\\n",
    "GPC2-WES-eval_0005_cc87f20b/VCFs/GPC2-WES_gCNV_segments_callset__CNV_eval_suite_ver__0.1__.pkl'\n",
    "gcnv_call_set_dict, gcnv_included_loci = cnv_eval.GenericCNVCallSet.from_pickle(gcnv_var_only_call_set_pkl)\n",
    "trial_call_set_dicts.append(gcnv_call_set_dict)\n",
    "trial_included_loci_list.append(gcnv_included_loci)\n",
    "\n",
    "# codex_var_only_call_set_pkl = '/Volumes/dsde_working/mehrtash/gCNV_theano_eval_new/GPC2-WES/other_tools/CODEX/\\\n",
    "# GPC2-WES_CODEX_segments_callset__CNV_eval_suite_ver__0.1__.pkl'\n",
    "# codex_call_set_dict, codex_included_loci = cnv_eval.GenericCNVCallSet.from_pickle(codex_var_only_call_set_pkl)\n",
    "# trial_call_set_dicts.append(codex_call_set_dict)\n",
    "# trial_included_loci_list.append(codex_included_loci)\n",
    "\n",
    "xhmm_var_only_call_set_pkl = '/Volumes/dsde_working/mehrtash/gCNV_theano_eval_new/GPC2-WES/other_tools/XHMM/\\\n",
    "GPC2-WES_XHMM_segments_callset__CNV_eval_suite_ver__0.2__.pkl'\n",
    "xhmm_call_set_dict, xhmm_included_loci = cnv_eval.GenericCNVCallSet.from_pickle(xhmm_var_only_call_set_pkl)\n",
    "trial_call_set_dicts.append(xhmm_call_set_dict)\n",
    "trial_included_loci_list.append(xhmm_included_loci)\n",
    "\n",
    "truth_sample_names = set(truth_call_set_dict.keys())\n",
    "mutual_samples = truth_sample_names\n",
    "for trial_call_set_dict in trial_call_set_dicts:\n",
    "    mutual_samples = mutual_samples.intersection(trial_call_set_dict.keys())\n",
    "mutual_samples = list(mutual_samples)\n",
    "\n",
    "# find the raw evaluation summaries for each trial call-set\n",
    "evaluated_contigs = {'1', '2', '3'}    \n",
    "for csi in range(len(trial_call_set_dicts)):\n",
    "    callset_contig_set = set(trial_included_loci_list[csi].keys())\n",
    "    for contig in callset_contig_set:\n",
    "        if contig not in evaluated_contigs:\n",
    "            trial_included_loci_list[csi].pop(contig)\n",
    "        \n",
    "raw_evaluation_summary_dicts = list()\n",
    "for csi in range(len(trial_call_set_dicts)):\n",
    "    raw_evaluation_summary_dict = dict()\n",
    "    raw_evaluation_summary_dicts.append(raw_evaluation_summary_dict)\n",
    "    for sample_name in mutual_samples:        \n",
    "        evaluator = cnv_eval.CNVTrialCallSetEvaluator(\n",
    "            truth_merged_call_set_dict[sample_name],\n",
    "            trial_call_set_dicts[csi][sample_name],\n",
    "            trial_included_loci=trial_included_loci_list[0],  # note\n",
    "            min_overlap_fraction_for_truth_filtration=1.0,\n",
    "            min_overlap_fraction_for_variant_matching=0.,\n",
    "            truth_overlapping_set_selection_strategy=\"largest_overlap\")\n",
    "        raw_evaluation_summary_dict[sample_name] = evaluator()"
   ]
  },
  {
   "cell_type": "code",
   "execution_count": 83,
   "metadata": {},
   "outputs": [
    {
     "ename": "AssertionError",
     "evalue": "Variant (3, 112184703, 112218457), VAR_CN: 3, GT: dup, GQ: 80.000, VF: N/A, NI: 5, class: N/A has no variant frequency annotation",
     "output_type": "error",
     "traceback": [
      "\u001b[0;31m---------------------------------------------------------------------------\u001b[0m",
      "\u001b[0;31mAssertionError\u001b[0m                            Traceback (most recent call last)",
      "\u001b[0;32m<ipython-input-83-252baded7898>\u001b[0m in \u001b[0;36m<module>\u001b[0;34m()\u001b[0m\n\u001b[1;32m     58\u001b[0m                 \u001b[0mraw_evaluation_summary_dict\u001b[0m\u001b[0;34m,\u001b[0m\u001b[0;34m\u001b[0m\u001b[0m\n\u001b[1;32m     59\u001b[0m                 \u001b[0mtruth_filter\u001b[0m\u001b[0;34m,\u001b[0m \u001b[0mtrial_filter\u001b[0m\u001b[0;34m,\u001b[0m\u001b[0;34m\u001b[0m\u001b[0m\n\u001b[0;32m---> 60\u001b[0;31m                 {})\n\u001b[0m\u001b[1;32m     61\u001b[0m \u001b[0;34m\u001b[0m\u001b[0m\n\u001b[1;32m     62\u001b[0m             \u001b[0mtruth_truth_positives\u001b[0m \u001b[0;34m=\u001b[0m \u001b[0mtrue_positives_sum\u001b[0m \u001b[0;34m+\u001b[0m \u001b[0mfalse_negatives_sum\u001b[0m\u001b[0;34m\u001b[0m\u001b[0m\n",
      "\u001b[0;32m<ipython-input-83-252baded7898>\u001b[0m in \u001b[0;36mget_cumulutative_statistics_with_filter\u001b[0;34m(raw_evaluation_summary_dict, truth_filter, trial_filter, excluded_samples)\u001b[0m\n\u001b[1;32m     10\u001b[0m             \u001b[0;32mcontinue\u001b[0m\u001b[0;34m\u001b[0m\u001b[0m\n\u001b[1;32m     11\u001b[0m         \u001b[0mraw_evaluation_summary\u001b[0m \u001b[0;34m=\u001b[0m \u001b[0mraw_evaluation_summary_dict\u001b[0m\u001b[0;34m[\u001b[0m\u001b[0msample_name\u001b[0m\u001b[0;34m]\u001b[0m\u001b[0;34m\u001b[0m\u001b[0m\n\u001b[0;32m---> 12\u001b[0;31m         \u001b[0mfiltered_evaluation_summary\u001b[0m \u001b[0;34m=\u001b[0m \u001b[0mraw_evaluation_summary\u001b[0m\u001b[0;34m.\u001b[0m\u001b[0mget_filtered_summary\u001b[0m\u001b[0;34m(\u001b[0m\u001b[0mtruth_filter\u001b[0m\u001b[0;34m,\u001b[0m \u001b[0mtrial_filter\u001b[0m\u001b[0;34m)\u001b[0m\u001b[0;34m\u001b[0m\u001b[0m\n\u001b[0m\u001b[1;32m     13\u001b[0m         \u001b[0mtrue_positives_sum\u001b[0m \u001b[0;34m+=\u001b[0m \u001b[0mfiltered_evaluation_summary\u001b[0m\u001b[0;34m.\u001b[0m\u001b[0mtrue_positive_count\u001b[0m\u001b[0;34m\u001b[0m\u001b[0m\n\u001b[1;32m     14\u001b[0m         \u001b[0mfalse_positives_sum\u001b[0m \u001b[0;34m+=\u001b[0m \u001b[0mfiltered_evaluation_summary\u001b[0m\u001b[0;34m.\u001b[0m\u001b[0mfalse_positive_count\u001b[0m\u001b[0;34m\u001b[0m\u001b[0m\n",
      "\u001b[0;32m~/Dropbox/Codes/Java/gatk-evaluation/CNV/gCNV/evaluation_suite/germline_cnv_evaluation/core.py\u001b[0m in \u001b[0;36mget_filtered_summary\u001b[0;34m(self, truth_filter, trial_filter)\u001b[0m\n\u001b[1;32m    517\u001b[0m             \u001b[0;32mfor\u001b[0m \u001b[0mjoint_vars\u001b[0m \u001b[0;32min\u001b[0m \u001b[0moriginal_match_set\u001b[0m\u001b[0;34m:\u001b[0m\u001b[0;34m\u001b[0m\u001b[0m\n\u001b[1;32m    518\u001b[0m                 \u001b[0mtruth_pass\u001b[0m \u001b[0;34m=\u001b[0m \u001b[0mtruth_filter\u001b[0m\u001b[0;34m(\u001b[0m\u001b[0mjoint_vars\u001b[0m\u001b[0;34m.\u001b[0m\u001b[0mtruth_variant\u001b[0m\u001b[0;34m)\u001b[0m\u001b[0;34m\u001b[0m\u001b[0m\n\u001b[0;32m--> 519\u001b[0;31m                 \u001b[0mtrial_pass\u001b[0m \u001b[0;34m=\u001b[0m \u001b[0mtrial_filter\u001b[0m\u001b[0;34m(\u001b[0m\u001b[0mjoint_vars\u001b[0m\u001b[0;34m.\u001b[0m\u001b[0mtrial_variant\u001b[0m\u001b[0;34m)\u001b[0m\u001b[0;34m\u001b[0m\u001b[0m\n\u001b[0m\u001b[1;32m    520\u001b[0m \u001b[0;34m\u001b[0m\u001b[0m\n\u001b[1;32m    521\u001b[0m                 \u001b[0;32mif\u001b[0m \u001b[0mtruth_pass\u001b[0m\u001b[0;34m:\u001b[0m\u001b[0;34m\u001b[0m\u001b[0m\n",
      "\u001b[0;32m~/Dropbox/Codes/Java/gatk-evaluation/CNV/gCNV/evaluation_suite/germline_cnv_evaluation/core.py\u001b[0m in \u001b[0;36mall_pass\u001b[0;34m(variant)\u001b[0m\n\u001b[1;32m    144\u001b[0m         \u001b[0;32mdef\u001b[0m \u001b[0mall_pass\u001b[0m\u001b[0;34m(\u001b[0m\u001b[0mvariant\u001b[0m\u001b[0;34m:\u001b[0m \u001b[0mGenericCopyNumberVariant\u001b[0m\u001b[0;34m)\u001b[0m\u001b[0;34m:\u001b[0m\u001b[0;34m\u001b[0m\u001b[0m\n\u001b[1;32m    145\u001b[0m             return (min_quality_pass(variant) and max_quality_pass(variant) and\n\u001b[0;32m--> 146\u001b[0;31m                     \u001b[0mmin_variant_frequency_pass\u001b[0m\u001b[0;34m(\u001b[0m\u001b[0mvariant\u001b[0m\u001b[0;34m)\u001b[0m \u001b[0;32mand\u001b[0m \u001b[0mmax_variant_frequency_pass\u001b[0m\u001b[0;34m(\u001b[0m\u001b[0mvariant\u001b[0m\u001b[0;34m)\u001b[0m \u001b[0;32mand\u001b[0m\u001b[0;34m\u001b[0m\u001b[0m\n\u001b[0m\u001b[1;32m    147\u001b[0m                     \u001b[0mmin_length_pass\u001b[0m\u001b[0;34m(\u001b[0m\u001b[0mvariant\u001b[0m\u001b[0;34m)\u001b[0m \u001b[0;32mand\u001b[0m \u001b[0mmax_length_pass\u001b[0m\u001b[0;34m(\u001b[0m\u001b[0mvariant\u001b[0m\u001b[0;34m)\u001b[0m \u001b[0;32mand\u001b[0m\u001b[0;34m\u001b[0m\u001b[0m\n\u001b[1;32m    148\u001b[0m                     \u001b[0mincluded_variant_classes_pass\u001b[0m\u001b[0;34m(\u001b[0m\u001b[0mvariant\u001b[0m\u001b[0;34m)\u001b[0m \u001b[0;32mand\u001b[0m\u001b[0;34m\u001b[0m\u001b[0m\n",
      "\u001b[0;32m~/Dropbox/Codes/Java/gatk-evaluation/CNV/gCNV/evaluation_suite/germline_cnv_evaluation/core.py\u001b[0m in \u001b[0;36mmin_variant_frequency_pass\u001b[0;34m(variant)\u001b[0m\n\u001b[1;32m    125\u001b[0m \u001b[0;34m\u001b[0m\u001b[0m\n\u001b[1;32m    126\u001b[0m         \u001b[0;32mdef\u001b[0m \u001b[0mmin_variant_frequency_pass\u001b[0m\u001b[0;34m(\u001b[0m\u001b[0mvariant\u001b[0m\u001b[0;34m:\u001b[0m \u001b[0mGenericCopyNumberVariant\u001b[0m\u001b[0;34m)\u001b[0m\u001b[0;34m:\u001b[0m\u001b[0;34m\u001b[0m\u001b[0m\n\u001b[0;32m--> 127\u001b[0;31m             \u001b[0;32mreturn\u001b[0m \u001b[0mmin_variant_frequency\u001b[0m \u001b[0;32mis\u001b[0m \u001b[0;32mNone\u001b[0m \u001b[0;32mor\u001b[0m \u001b[0mvariant\u001b[0m\u001b[0;34m.\u001b[0m\u001b[0mvariant_frequency_gte_value\u001b[0m\u001b[0;34m(\u001b[0m\u001b[0mmin_variant_frequency\u001b[0m\u001b[0;34m)\u001b[0m\u001b[0;34m\u001b[0m\u001b[0m\n\u001b[0m\u001b[1;32m    128\u001b[0m \u001b[0;34m\u001b[0m\u001b[0m\n\u001b[1;32m    129\u001b[0m         \u001b[0;32mdef\u001b[0m \u001b[0mmax_variant_frequency_pass\u001b[0m\u001b[0;34m(\u001b[0m\u001b[0mvariant\u001b[0m\u001b[0;34m:\u001b[0m \u001b[0mGenericCopyNumberVariant\u001b[0m\u001b[0;34m)\u001b[0m\u001b[0;34m:\u001b[0m\u001b[0;34m\u001b[0m\u001b[0m\n",
      "\u001b[0;32m~/Dropbox/Codes/Java/gatk-evaluation/CNV/gCNV/evaluation_suite/germline_cnv_evaluation/core.py\u001b[0m in \u001b[0;36mvariant_frequency_gte_value\u001b[0;34m(self, min_variant_frequency)\u001b[0m\n\u001b[1;32m     85\u001b[0m \u001b[0;34m\u001b[0m\u001b[0m\n\u001b[1;32m     86\u001b[0m     \u001b[0;32mdef\u001b[0m \u001b[0mvariant_frequency_gte_value\u001b[0m\u001b[0;34m(\u001b[0m\u001b[0mself\u001b[0m\u001b[0;34m,\u001b[0m \u001b[0mmin_variant_frequency\u001b[0m\u001b[0;34m:\u001b[0m \u001b[0mfloat\u001b[0m\u001b[0;34m)\u001b[0m\u001b[0;34m:\u001b[0m\u001b[0;34m\u001b[0m\u001b[0m\n\u001b[0;32m---> 87\u001b[0;31m         \u001b[0;32massert\u001b[0m \u001b[0mself\u001b[0m\u001b[0;34m.\u001b[0m\u001b[0mvariant_frequency\u001b[0m \u001b[0;32mis\u001b[0m \u001b[0;32mnot\u001b[0m \u001b[0;32mNone\u001b[0m\u001b[0;34m,\u001b[0m \u001b[0;34m\"Variant {0} has no variant frequency annotation\"\u001b[0m\u001b[0;34m.\u001b[0m\u001b[0mformat\u001b[0m\u001b[0;34m(\u001b[0m\u001b[0mself\u001b[0m\u001b[0;34m)\u001b[0m\u001b[0;34m\u001b[0m\u001b[0m\n\u001b[0m\u001b[1;32m     88\u001b[0m         \u001b[0;32mreturn\u001b[0m \u001b[0mself\u001b[0m\u001b[0;34m.\u001b[0m\u001b[0mvariant_frequency\u001b[0m \u001b[0;34m>=\u001b[0m \u001b[0mmin_variant_frequency\u001b[0m\u001b[0;34m\u001b[0m\u001b[0m\n\u001b[1;32m     89\u001b[0m \u001b[0;34m\u001b[0m\u001b[0m\n",
      "\u001b[0;31mAssertionError\u001b[0m: Variant (3, 112184703, 112218457), VAR_CN: 3, GT: dup, GQ: 80.000, VF: N/A, NI: 5, class: N/A has no variant frequency annotation"
     ]
    },
    {
     "data": {
      "image/png": "[encoded data removed]",
      "text/plain": [
       "<matplotlib.figure.Figure at 0x185d3f1d0>"
      ]
     },
     "metadata": {},
     "output_type": "display_data"
    }
   ],
   "source": [
    "def get_cumulutative_statistics_with_filter(raw_evaluation_summary_dict,\n",
    "                                            truth_filter, trial_filter,\n",
    "                                            excluded_samples={}):\n",
    "    true_positives_sum = 0\n",
    "    false_positives_sum = 0\n",
    "    false_negatives_sum = 0\n",
    "    \n",
    "    for sample_name in mutual_samples:\n",
    "        if sample_name in excluded_samples:\n",
    "            continue\n",
    "        raw_evaluation_summary = raw_evaluation_summary_dict[sample_name]\n",
    "        filtered_evaluation_summary = raw_evaluation_summary.get_filtered_summary(truth_filter, trial_filter)\n",
    "        true_positives_sum += filtered_evaluation_summary.true_positive_count\n",
    "        false_positives_sum += filtered_evaluation_summary.false_positive_count\n",
    "        false_negatives_sum += filtered_evaluation_summary.false_negative_count\n",
    "    \n",
    "    return true_positives_sum, false_positives_sum, false_negatives_sum\n",
    "\n",
    "trial_min_quality_lists = [\n",
    "    np.arange(0, 99, 5), # gcnv\n",
    "    np.arange(0, 99, 5), # codex\n",
    "    np.arange(0, 99, 5) # xhmm\n",
    "]\n",
    "\n",
    "trial_plot_colors = ['black', 'green', 'red']\n",
    "min_variant_frequency_list = [0]#, 0.1, 0.2, 0.3, 0.4]\n",
    "max_variant_frequency = 1.0\n",
    "line_width_list = [1]#, 2, 3, 4, 5]\n",
    "\n",
    "min_length = 0\n",
    "truth_min_quality = 0\n",
    "\n",
    "fig = plt.figure()\n",
    "ax = plt.gca()\n",
    "\n",
    "for min_variant_frequency, line_width in zip(min_variant_frequency_list, line_width_list):\n",
    "    for idx, (raw_evaluation_summary_dict, trial_min_quality_list, trial_plot_color) in enumerate(zip(\n",
    "        raw_evaluation_summary_dicts, trial_min_quality_lists, trial_plot_colors)):\n",
    "\n",
    "        TPR_list = []\n",
    "        FDR_list = []\n",
    "\n",
    "        for trial_min_quality in trial_min_quality_list:\n",
    "\n",
    "            truth_filter = cnv_eval.GenericCopyNumberVariant.get_variant_filter(\n",
    "                min_quality=truth_min_quality,\n",
    "                min_variant_frequency=min_variant_frequency,\n",
    "                max_variant_frequency=max_variant_frequency,\n",
    "                min_length=min_length)\n",
    "\n",
    "            trial_filter = cnv_eval.GenericCopyNumberVariant.get_variant_filter(\n",
    "                min_quality=trial_min_quality,\n",
    "                min_variant_frequency=min_variant_frequency,\n",
    "                max_variant_frequency=max_variant_frequency,\n",
    "                min_length=min_length)\n",
    "\n",
    "            (true_positives_sum, false_positives_sum, false_negatives_sum) = get_cumulutative_statistics_with_filter(\n",
    "                raw_evaluation_summary_dict,\n",
    "                truth_filter, trial_filter,\n",
    "                {})\n",
    "\n",
    "            truth_truth_positives = true_positives_sum + false_negatives_sum\n",
    "            total_trial_positives = true_positives_sum + false_positives_sum\n",
    "\n",
    "            if truth_truth_positives > 0:\n",
    "                TPR = true_positives_sum / truth_truth_positives\n",
    "            else:\n",
    "                TPR = np.nan \n",
    "\n",
    "            if total_trial_positives > 0:\n",
    "                FDR = false_positives_sum / total_trial_positives\n",
    "            else:\n",
    "                FPR = np.nan\n",
    "\n",
    "            TPR_list.append(TPR)\n",
    "            FDR_list.append(FDR)\n",
    "\n",
    "        ax.plot(FDR_list, TPR_list,\n",
    "                color=trial_plot_color,\n",
    "                lw=line_width,\n",
    "                label='VF >= {0}'.format(min_variant_frequency) if idx == 0 else None)\n",
    "\n",
    "ax.set_xlabel('FDR')\n",
    "ax.set_ylabel('TPR')\n",
    "ax.legend(loc='lower left')\n",
    "# ax.set_ylim((0, 1))\n",
    "# ax.set_xlim((0, 1))\n",
    "ax.set_aspect('equal')"
   ]
  },
  {
   "cell_type": "code",
   "execution_count": 45,
   "metadata": {},
   "outputs": [],
   "source": [
    "def plot_evaluation_summary_dict(evaluation_summary_dict):\n",
    "    sample_true_positive_list = []\n",
    "    sample_false_negative_list = []\n",
    "    sample_false_positive_list = []\n",
    "    \n",
    "    sample_names = list(evaluation_summary_dict.keys())\n",
    "    for si, sample_name in enumerate(sample_names):\n",
    "        sample_true_positive_list.append(evaluation_summary_dict[sample_name].true_positive_count)\n",
    "        sample_false_negative_list.append(evaluation_summary_dict[sample_name].false_negative_count)\n",
    "        sample_false_positive_list.append(evaluation_summary_dict[sample_name].false_positive_count)\n",
    "\n",
    "    fig = plt.figure(figsize=(16,4))\n",
    "    ax = plt.gca()\n",
    "\n",
    "    def get_outliers_ztest(metric, z_threshold=2.0, side='above'):\n",
    "        metric = np.asarray(metric)\n",
    "        mean = np.mean(metric)\n",
    "        std = np.std(metric)\n",
    "        metric_z = (metric - mean) / std\n",
    "        if side == 'above':\n",
    "            return [si for si, z in enumerate(metric_z) if z >= z_threshold]\n",
    "        else:\n",
    "            return [si for si, z in enumerate(metric_z) if z <= -z_threshold]\n",
    "\n",
    "    si_too_many_fn = get_outliers_ztest(sample_false_negative_list, side='above')\n",
    "    si_too_many_fp = get_outliers_ztest(sample_false_positive_list, side='above')\n",
    "    si_too_few_tp = get_outliers_ztest(sample_true_positive_list, side='below')\n",
    "\n",
    "    print('samples with too many false positives: {0}'.format([sample_names[si] for si in si_too_many_fp]))\n",
    "    print('samples with too many false negatives: {0}'.format([sample_names[si] for si in si_too_many_fn]))\n",
    "    print('samples with too few true positives: {0}'.format([sample_names[si] for si in si_too_few_tp]))\n",
    "\n",
    "    ax.plot(sample_true_positive_list, lw=0, marker='.', markersize=4, color='green', label='TP')\n",
    "    ax.plot(sample_false_negative_list, lw=0, marker='o', markersize=4, color='blue', label='FN')\n",
    "    ax.plot(sample_false_positive_list, lw=0, marker='x', markersize=4, color='red', label='FP')\n",
    "\n",
    "    x_labels = sorted(list(set(si_too_many_fn).union(set(si_too_many_fp)).union(set(si_too_few_tp))))\n",
    "\n",
    "    for si in si_too_few_tp:\n",
    "        ax.plot([si], [sample_true_positive_list[si]], lw=0, marker='.', markersize=8, color='green')\n",
    "\n",
    "    for si in si_too_many_fn:\n",
    "        ax.plot([si], [sample_false_negative_list[si]], lw=0, marker='o', markersize=8, color='blue')\n",
    "\n",
    "    for si in si_too_many_fp:\n",
    "        ax.plot([si], [sample_false_positive_list[si]], lw=0, marker='x', markersize=8, color='red')\n",
    "\n",
    "    _ = ax.set_xticks(x_labels)\n",
    "    _ = ax.set_xticklabels([sample_names[si] for si in x_labels], rotation=80)\n",
    "\n",
    "    ax.set_ylabel('hits')\n",
    "    ax.set_xlim((0, len(sample_names)-1))\n",
    "    ax.legend()\n",
    "    ax.set_yscale('log')\n",
    "\n",
    "    excluded_samples = [sample_names[si] for si in x_labels]"
   ]
  },
  {
   "cell_type": "markdown",
   "metadata": {},
   "source": [
    "## Exploration"
   ]
  },
  {
   "cell_type": "code",
   "execution_count": 39,
   "metadata": {},
   "outputs": [],
   "source": [
    "tool_names = ['gCNV', 'xHMM']"
   ]
  },
  {
   "cell_type": "code",
   "execution_count": null,
   "metadata": {},
   "outputs": [],
   "source": [
    "truth_filter = cnv_eval.GenericCopyNumberVariant.get_variant_filter(\n",
    "    min_quality=truth_min_quality,\n",
    "    min_variant_frequency=min_variant_frequency,\n",
    "    max_variant_frequency=max_variant_frequency,\n",
    "    min_length=min_length)"
   ]
  },
  {
   "cell_type": "code",
   "execution_count": 40,
   "metadata": {},
   "outputs": [
    {
     "data": {
      "image/png": "[encoded data removed]",
      "text/plain": [
       "<matplotlib.figure.Figure at 0x170592fd0>"
      ]
     },
     "metadata": {},
     "output_type": "display_data"
    }
   ],
   "source": [
    "fig = plt.figure()\n",
    "truth_filter = Ger\n",
    "for idx, (raw_evaluation_summary_dict, tool_name) in enumerate(zip(raw_evaluation_summary_dicts, tool_names)):\n",
    "\n",
    "    ax = plt.subplot2grid((1, len(tool_names)), (0, idx))\n",
    "\n",
    "    truth_lengths = []\n",
    "    trial_lengths = []\n",
    "\n",
    "    for sample_name in mutual_samples:\n",
    "        raw_evaluation_summary = raw_evaluation_summary_dict[sample_name]\n",
    "        all_matches = raw_evaluation_summary.all_matches\n",
    "        for match in all_matches:\n",
    "            truth_lengths.append(match.truth_variant.end - match.truth_variant.start)\n",
    "            trial_lengths.append(match.trial_variant.end - match.trial_variant.start)\n",
    "\n",
    "    ax.scatter(truth_lengths, trial_lengths, s=2)\n",
    "    ax.set_xscale('log')\n",
    "    ax.set_yscale('log')\n",
    "    ax.plot([100, 1e6], [100, 1e6], color='red')\n",
    "\n",
    "    ax.set_xlabel('Truth length')\n",
    "    ax.set_ylabel('Trial length')\n",
    "    ax.set_aspect('equal')\n",
    "    ax.set_xlim((100, 1e6))\n",
    "    ax.set_ylim((100, 1e6))"
   ]
  },
  {
   "cell_type": "code",
   "execution_count": 7,
   "metadata": {},
   "outputs": [],
   "source": [
    "# load pickled variant-only trial call-sets\n",
    "trial_call_set_dicts = list()\n",
    "trial_included_loci_list = list()\n",
    "\n",
    "gcnv_var_only_call_set_pkl = '/Volumes/dsde_working/mehrtash/gCNV_theano_eval_new/GPC2-WES/output/\\\n",
    "GPC2-WES-eval_0005_cc87f20b/VCFs/GPC2-WES_gCNV_segments_callset__CNV_eval_suite_ver__0.1__.pkl'\n",
    "gcnv_call_set_dict, gcnv_included_loci = cnv_eval.GenericCNVCallSet.from_pickle(gcnv_var_only_call_set_pkl)\n",
    "trial_call_set_dicts.append(gcnv_call_set_dict)\n",
    "trial_included_loci_list.append(gcnv_included_loci)\n",
    "\n",
    "# codex_var_only_call_set_pkl = '/Volumes/dsde_working/mehrtash/gCNV_theano_eval_new/GPC2-WES/other_tools/CODEX/\\\n",
    "# GPC2-WES_CODEX_segments_callset__CNV_eval_suite_ver__0.1__.pkl'\n",
    "# codex_call_set_dict, codex_included_loci = cnv_eval.GenericCNVCallSet.from_pickle(codex_var_only_call_set_pkl)\n",
    "# trial_call_set_dicts.append(codex_call_set_dict)\n",
    "# trial_included_loci_list.append(codex_included_loci)\n",
    "\n",
    "xhmm_var_only_call_set_pkl = '/Volumes/dsde_working/mehrtash/gCNV_theano_eval_new/GPC2-WES/other_tools/XHMM/\\\n",
    "GPC2-WES_XHMM_segments_callset__CNV_eval_suite_ver__0.2__.pkl'\n",
    "xhmm_call_set_dict, xhmm_included_loci = cnv_eval.GenericCNVCallSet.from_pickle(xhmm_var_only_call_set_pkl)\n",
    "trial_call_set_dicts.append(xhmm_call_set_dict)\n",
    "trial_included_loci_list.append(xhmm_included_loci)"
   ]
  },
  {
   "cell_type": "code",
   "execution_count": 75,
   "metadata": {},
   "outputs": [],
   "source": [
    "truth_sample_names = set(truth_call_set_dict.keys())\n",
    "mutual_samples = truth_sample_names\n",
    "for trial_call_set_dict in trial_call_set_dicts:\n",
    "    mutual_samples = mutual_samples.intersection(trial_call_set_dict.keys())\n",
    "mutual_samples = list(mutual_samples)\n"
   ]
  },
  {
   "cell_type": "code",
   "execution_count": 83,
   "metadata": {},
   "outputs": [],
   "source": [
    "c_list = []\n",
    "for sample_name in mutual_samples:\n",
    "    truth_call_set = truth_merged_call_set_dict[sample_name]\n",
    "    trial_call_set = trial_call_set_dicts[1][sample_name]\n",
    "    trial_interval_tree = trial_included_loci_list[0]\n",
    "    summary = cnv_eval.CNVTrialCallSetEvaluatorTargetResolved(truth_call_set, trial_call_set, trial_interval_tree)()\n",
    "    c_list.append(summary.base_level_concordance)"
   ]
  },
  {
   "cell_type": "code",
   "execution_count": 84,
   "metadata": {},
   "outputs": [],
   "source": [
    "TP = 0\n",
    "FN = 0\n",
    "FP = 0\n",
    "\n",
    "for c in c_list:\n",
    "    TP += c.TP\n",
    "    FN += c.FN\n",
    "    FP += c.FP"
   ]
  },
  {
   "cell_type": "code",
   "execution_count": 82,
   "metadata": {},
   "outputs": [
    {
     "name": "stdout",
     "output_type": "stream",
     "text": [
      "0.1833365377055458\n",
      "0.3126176069291279\n"
     ]
    }
   ],
   "source": [
    "# gCNV\n",
    "print(TP / (TP + FN))\n",
    "print(TP / (TP + FP))"
   ]
  },
  {
   "cell_type": "code",
   "execution_count": 85,
   "metadata": {},
   "outputs": [
    {
     "name": "stdout",
     "output_type": "stream",
     "text": [
      "0.2767225239406145\n",
      "0.19238004177772874\n"
     ]
    }
   ],
   "source": [
    "# XHMM\n",
    "print(TP / (TP + FN))\n",
    "print(TP / (TP + FP))"
   ]
  },
  {
   "cell_type": "code",
   "execution_count": 91,
   "metadata": {},
   "outputs": [],
   "source": [
    "truth_filter = cnv_eval.GenericCopyNumberVariant.get_variant_filter(\n",
    "    min_quality=60,\n",
    "    min_variant_frequency=0,\n",
    "    max_variant_frequency=1.)\n",
    "\n",
    "trial_filter = cnv_eval.GenericCopyNumberVariant.get_variant_filter(\n",
    "    min_quality=60,\n",
    "    min_variant_frequency=0.,\n",
    "    max_variant_frequency=1.)\n"
   ]
  },
  {
   "cell_type": "code",
   "execution_count": 92,
   "metadata": {},
   "outputs": [
    {
     "ename": "AttributeError",
     "evalue": "'GenericCopyNumberVariant' object has no attribute 'trial_interval'",
     "output_type": "error",
     "traceback": [
      "\u001b[0;31m---------------------------------------------------------------------------\u001b[0m",
      "\u001b[0;31mAttributeError\u001b[0m                            Traceback (most recent call last)",
      "\u001b[0;32m<ipython-input-92-5c985a298c61>\u001b[0m in \u001b[0;36m<module>\u001b[0;34m()\u001b[0m\n\u001b[0;32m----> 1\u001b[0;31m \u001b[0msummary\u001b[0m\u001b[0;34m.\u001b[0m\u001b[0mget_filtered_summary\u001b[0m\u001b[0;34m(\u001b[0m\u001b[0mtruth_filter\u001b[0m\u001b[0;34m,\u001b[0m \u001b[0mtrial_filter\u001b[0m\u001b[0;34m)\u001b[0m\u001b[0;34m.\u001b[0m\u001b[0mbase_level_concordance\u001b[0m\u001b[0;34m\u001b[0m\u001b[0m\n\u001b[0m",
      "\u001b[0;32m~/Dropbox/Codes/Java/gatk-evaluation/CNV/gCNV/evaluation_suite/germline_cnv_evaluation/core.py\u001b[0m in \u001b[0;36mbase_level_concordance\u001b[0;34m(self)\u001b[0m\n\u001b[1;32m    826\u001b[0m         \u001b[0;32mfor\u001b[0m \u001b[0mfalse_variant\u001b[0m \u001b[0;32min\u001b[0m \u001b[0mself\u001b[0m\u001b[0;34m.\u001b[0m\u001b[0mfalse_variants\u001b[0m\u001b[0;34m:\u001b[0m\u001b[0;34m\u001b[0m\u001b[0m\n\u001b[1;32m    827\u001b[0m             \u001b[0mtrial_interval\u001b[0m \u001b[0;34m=\u001b[0m \u001b[0mfalse_variant\u001b[0m\u001b[0;34m.\u001b[0m\u001b[0mtrial_interval\u001b[0m\u001b[0;34m\u001b[0m\u001b[0m\n\u001b[0;32m--> 828\u001b[0;31m             \u001b[0mtrial_interval_bases\u001b[0m \u001b[0;34m=\u001b[0m \u001b[0mtrial_interval\u001b[0m\u001b[0;34m.\u001b[0m\u001b[0mend\u001b[0m \u001b[0;34m-\u001b[0m \u001b[0mtrial_interval\u001b[0m\u001b[0;34m.\u001b[0m\u001b[0mbegin\u001b[0m\u001b[0;34m\u001b[0m\u001b[0m\n\u001b[0m\u001b[1;32m    829\u001b[0m             \u001b[0mfalse_bases\u001b[0m \u001b[0;34m+=\u001b[0m \u001b[0mtrial_interval_bases\u001b[0m\u001b[0;34m\u001b[0m\u001b[0m\n\u001b[1;32m    830\u001b[0m \u001b[0;34m\u001b[0m\u001b[0m\n",
      "\u001b[0;31mAttributeError\u001b[0m: 'GenericCopyNumberVariant' object has no attribute 'trial_interval'"
     ]
    }
   ],
   "source": [
    "summary.get_filtered_summary(truth_filter, trial_filter).base_level_concordance"
   ]
  },
  {
   "cell_type": "code",
   "execution_count": null,
   "metadata": {},
   "outputs": [],
   "source": []
  }
 ],
 "metadata": {
  "kernelspec": {
   "display_name": "Python 3",
   "language": "python",
   "name": "python3"
  },
  "language_info": {
   "codemirror_mode": {
    "name": "ipython",
    "version": 3
   },
   "file_extension": ".py",
   "mimetype": "text/x-python",
   "name": "python",
   "nbconvert_exporter": "python",
   "pygments_lexer": "ipython3",
   "version": "3.6.3"
  }
 },
 "nbformat": 4,
 "nbformat_minor": 2
}
