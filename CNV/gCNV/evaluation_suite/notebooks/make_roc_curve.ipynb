{
 "cells": [
  {
   "cell_type": "code",
   "execution_count": 1,
   "metadata": {},
   "outputs": [],
   "source": [
    "%matplotlib inline\n",
    "\n",
    "import numpy as np\n",
    "import matplotlib.pylab as plt\n",
    "import os\n",
    "import logging\n",
    "import germline_cnv_evaluation as cnv_eval\n",
    "\n",
    "logging.basicConfig(level=logging.INFO,\n",
    "                    format='%(asctime)s %(name)-12s %(levelname)-8s %(message)s',\n",
    "                    datefmt='%m-%d %H:%M')\n"
   ]
  },
  {
   "cell_type": "code",
   "execution_count": 2,
   "metadata": {},
   "outputs": [],
   "source": [
    "truth_var_only_call_set_pkl = '/Volumes/dsde_working/mehrtash/gCNV_theano_eval_new/GPC2-WES/gs/\\\n",
    "gpc2_gs_callset_v3__CNV_eval_suite_ver__0.1__.pkl'\n",
    "\n",
    "# load pickled results\n",
    "truth_call_set_dict, truth_included_loci = cnv_eval.GenericCNVCallSet.from_pickle(truth_var_only_call_set_pkl)\n",
    "\n",
    "# for GS calls: no need to pad segments before merging (by design, the best segment for each sample\n",
    "# is already there)\n",
    "truth_merge_padding = 0\n",
    "\n",
    "# for GS calls: choose the highest quality segment from the overlapping set (it is reasonable\n",
    "# to assume that the highest quality segment for each sample is the right call for that sample)\n",
    "truth_merge_interval_consensus_strategy = 'highest_quality'\n",
    "\n",
    "# for GS calls: the intervals end-points are the same as the highest quality segment\n",
    "truth_merge_call_consensus_strategy = 'highest_quality'\n",
    "\n",
    "# merge overlapping segments\n",
    "truth_merged_call_set_dict = dict()\n",
    "for sample_name in truth_call_set_dict.keys():\n",
    "    truth_merged_call_set_dict[sample_name] = truth_call_set_dict[sample_name].merge_overlapping_variants(\n",
    "        truth_merge_padding,\n",
    "        interval_consensus_strategy=truth_merge_interval_consensus_strategy,\n",
    "        call_consensus_strategy=truth_merge_call_consensus_strategy)"
   ]
  },
  {
   "cell_type": "code",
   "execution_count": 14,
   "metadata": {},
   "outputs": [],
   "source": [
    "# load pickled variant-only trial call-sets\n",
    "trial_call_set_dicts = list()\n",
    "trial_included_loci_list = list()\n",
    "\n",
    "gcnv_var_only_call_set_pkl = '/Volumes/dsde_working/mehrtash/gCNV_theano_eval_new/GPC2-WES/output/\\\n",
    "GPC2-WES-eval_0005_cc87f20b/VCFs/GPC2-WES_gCNV_segments_callset__CNV_eval_suite_ver__0.1__.pkl'\n",
    "gcnv_call_set_dict, gcnv_included_loci = cnv_eval.GenericCNVCallSet.from_pickle(gcnv_var_only_call_set_pkl)\n",
    "trial_call_set_dicts.append(gcnv_call_set_dict)\n",
    "trial_included_loci_list.append(gcnv_included_loci)\n",
    "\n",
    "codex_var_only_call_set_pkl = '/Volumes/dsde_working/mehrtash/gCNV_theano_eval_new/GPC2-WES/other_tools/CODEX/\\\n",
    "GPC2-WES_CODEX_segments_callset__CNV_eval_suite_ver__0.1__.pkl'\n",
    "codex_call_set_dict, codex_included_loci = cnv_eval.GenericCNVCallSet.from_pickle(codex_var_only_call_set_pkl)\n",
    "trial_call_set_dicts.append(codex_call_set_dict)\n",
    "trial_included_loci_list.append(codex_included_loci)\n",
    "\n",
    "truth_sample_names = set(truth_call_set_dict.keys())\n",
    "mutual_samples = truth_sample_names\n",
    "for trial_call_set_dict in trial_call_set_dicts:\n",
    "    mutual_samples = mutual_samples.intersection(trial_call_set_dict.keys())\n",
    "mutual_samples = list(mutual_samples)\n",
    "\n",
    "# find the raw evaluation summaries for each trial call-set\n",
    "raw_evaluation_summary_dicts = list()\n",
    "for csi in range(len(trial_call_set_dicts)):\n",
    "    raw_evaluation_summary_dict = dict()\n",
    "    raw_evaluation_summary_dicts.append(raw_evaluation_summary_dict)\n",
    "    for sample_name in mutual_samples:        \n",
    "        evaluator = cnv_eval.CNVTrialCallSetEvaluator(\n",
    "            truth_merged_call_set_dict[sample_name],\n",
    "            trial_call_set_dicts[csi][sample_name],\n",
    "            truth_included_loci=trial_included_loci_list[csi], ## NOTE\n",
    "            trial_included_loci=trial_included_loci_list[csi],\n",
    "            min_overlap_fraction_for_variant_matching=0.75,\n",
    "            truth_overlapping_set_selection_strategy=\"largest_overlap\")\n",
    "        raw_evaluation_summary_dict[sample_name] = evaluator()"
   ]
  },
  {
   "cell_type": "code",
   "execution_count": 13,
   "metadata": {},
   "outputs": [
    {
     "data": {
      "text/plain": [
       "(0, 1)"
      ]
     },
     "execution_count": 13,
     "metadata": {},
     "output_type": "execute_result"
    },
    {
     "data": {
      "image/png": "[encoded data removed]",
      "text/plain": [
       "<matplotlib.figure.Figure at 0x1805189b0>"
      ]
     },
     "metadata": {},
     "output_type": "display_data"
    }
   ],
   "source": [
    "def get_cumulutative_statistics_with_filter(raw_evaluation_summary_dict,\n",
    "                                            truth_filter, trial_filter,\n",
    "                                            excluded_samples={}):\n",
    "    true_positives_sum = 0\n",
    "    false_positives_sum = 0\n",
    "    false_negatives_sum = 0\n",
    "    \n",
    "    for sample_name in mutual_samples:\n",
    "        if sample_name in excluded_samples:\n",
    "            continue\n",
    "        raw_evaluation_summary = raw_evaluation_summary_dict[sample_name]\n",
    "        filtered_evaluation_summary = raw_evaluation_summary.get_filtered_summary(truth_filter, trial_filter)\n",
    "        true_positives_sum += filtered_evaluation_summary.true_positive_count\n",
    "        false_positives_sum += filtered_evaluation_summary.false_positive_count\n",
    "        false_negatives_sum += filtered_evaluation_summary.false_negative_count\n",
    "    \n",
    "    return true_positives_sum, false_positives_sum, false_negatives_sum\n",
    "\n",
    "trial_min_quality_lists = [\n",
    "    np.arange(0, 300, 10), # gcnv\n",
    "    np.arange(0, 99, 5) # codex\n",
    "]\n",
    "\n",
    "trial_plot_colors = ['black', 'blue']\n",
    "min_variant_frequency_list = [0, 0.1, 0.2, 0.3, 0.4]\n",
    "line_width_list = [1, 2, 3, 4, 5]\n",
    "\n",
    "min_length = 5000\n",
    "truth_min_quality = 500\n",
    "\n",
    "for min_variant_frequency, line_width in zip(min_variant_frequency_list, line_width_list):\n",
    "    for idx, (raw_evaluation_summary_dict, trial_min_quality_list, trial_plot_color) in enumerate(zip(\n",
    "        raw_evaluation_summary_dicts, trial_min_quality_lists, trial_plot_colors)):\n",
    "\n",
    "        TPR_list = []\n",
    "        FDR_list = []\n",
    "\n",
    "        for trial_min_quality in trial_min_quality_list:\n",
    "\n",
    "            truth_filter = cnv_eval.GenericCopyNumberVariant.get_variant_filter(\n",
    "                min_variant_frequency=min_variant_frequency,\n",
    "                min_length=min_length,\n",
    "                min_quality=truth_min_quality)\n",
    "\n",
    "            trial_filter = cnv_eval.GenericCopyNumberVariant.get_variant_filter(\n",
    "                min_quality=trial_min_quality,\n",
    "                min_variant_frequency=min_variant_frequency,\n",
    "                min_length=min_length)\n",
    "\n",
    "            (true_positives_sum, false_positives_sum, false_negatives_sum) = get_cumulutative_statistics_with_filter(\n",
    "                raw_evaluation_summary_dict,\n",
    "                truth_filter, trial_filter,\n",
    "                {})\n",
    "\n",
    "            truth_truth_positives = true_positives_sum + false_negatives_sum\n",
    "            total_trial_positives = true_positives_sum + false_positives_sum\n",
    "\n",
    "            if truth_truth_positives > 0:\n",
    "                TPR = true_positives_sum / truth_truth_positives\n",
    "            else:\n",
    "                TPR = np.nan \n",
    "\n",
    "            if total_trial_positives > 0:\n",
    "                FDR = false_positives_sum / total_trial_positives\n",
    "            else:\n",
    "                FPR = np.nan\n",
    "\n",
    "            TPR_list.append(TPR)\n",
    "            FDR_list.append(FDR)\n",
    "\n",
    "        plt.plot(FDR_list, TPR_list,\n",
    "                 color=trial_plot_color,\n",
    "                 lw=line_width,\n",
    "                 label='VF >= {0}'.format(min_variant_frequency) if idx == 0 else None)\n",
    "\n",
    "plt.xlabel('FDR')\n",
    "plt.ylabel('TPR')\n",
    "plt.legend(loc='lower left')\n",
    "plt.ylim((0, 1))\n",
    "plt.xlim((0, 1))"
   ]
  },
  {
   "cell_type": "code",
   "execution_count": 7,
   "metadata": {},
   "outputs": [],
   "source": [
    "def plot_evaluation_summary_dict(evaluation_summary_dict):\n",
    "    sample_true_positive_list = []\n",
    "    sample_false_negative_list = []\n",
    "    sample_false_positive_list = []\n",
    "    \n",
    "    sample_names = list(evaluation_summary_dict.keys())\n",
    "    for si, sample_name in enumerate(sample_names):\n",
    "        sample_true_positive_list.append(evaluation_summary_dict[sample_name].true_positive_count)\n",
    "        sample_false_negative_list.append(evaluation_summary_dict[sample_name].false_negative_count)\n",
    "        sample_false_positive_list.append(evaluation_summary_dict[sample_name].false_positive_count)\n",
    "\n",
    "    fig = plt.figure(figsize=(16,4))\n",
    "    ax = plt.gca()\n",
    "\n",
    "    def get_outliers_ztest(metric, z_threshold=2.0, side='above'):\n",
    "        metric = np.asarray(metric)\n",
    "        mean = np.mean(metric)\n",
    "        std = np.std(metric)\n",
    "        metric_z = (metric - mean) / std\n",
    "        if side == 'above':\n",
    "            return [si for si, z in enumerate(metric_z) if z >= z_threshold]\n",
    "        else:\n",
    "            return [si for si, z in enumerate(metric_z) if z <= -z_threshold]\n",
    "\n",
    "    si_too_many_fn = get_outliers_ztest(sample_false_negative_list, side='above')\n",
    "    si_too_many_fp = get_outliers_ztest(sample_false_positive_list, side='above')\n",
    "    si_too_few_tp = get_outliers_ztest(sample_true_positive_list, side='below')\n",
    "\n",
    "    print('samples with too many false positives: {0}'.format([sample_names[si] for si in si_too_many_fp]))\n",
    "    print('samples with too many false negatives: {0}'.format([sample_names[si] for si in si_too_many_fn]))\n",
    "    print('samples with too few true positives: {0}'.format([sample_names[si] for si in si_too_few_tp]))\n",
    "\n",
    "    ax.plot(sample_true_positive_list, lw=0, marker='.', markersize=2, color='green', label='TP')\n",
    "    ax.plot(sample_false_negative_list, lw=0, marker='.', markersize=2, color='blue', label='FN')\n",
    "    ax.plot(sample_false_positive_list, lw=0, marker='.', markersize=2, color='red', label='FP')\n",
    "\n",
    "    x_labels = sorted(list(set(si_too_many_fn).union(set(si_too_many_fp)).union(set(si_too_few_tp))))\n",
    "\n",
    "    for si in si_too_few_tp:\n",
    "        ax.plot([si], [sample_true_positive_list[si]], lw=0, marker='.', markersize=8, color='green')\n",
    "\n",
    "    for si in si_too_many_fn:\n",
    "        ax.plot([si], [sample_false_negative_list[si]], lw=0, marker='.', markersize=8, color='blue')\n",
    "\n",
    "    for si in si_too_many_fp:\n",
    "        ax.plot([si], [sample_false_positive_list[si]], lw=0, marker='.', markersize=8, color='red')\n",
    "\n",
    "    _ = ax.set_xticks(x_labels)\n",
    "    _ = ax.set_xticklabels([sample_names[si] for si in x_labels], rotation=80)\n",
    "\n",
    "    ax.set_ylabel('hits')\n",
    "    ax.set_xlim((0, len(sample_names)-1))\n",
    "    ax.legend()\n",
    "    ax.set_yscale('log')\n",
    "\n",
    "    excluded_samples = [sample_names[si] for si in x_labels]"
   ]
  },
  {
   "cell_type": "code",
   "execution_count": 8,
   "metadata": {},
   "outputs": [
    {
     "name": "stdout",
     "output_type": "stream",
     "text": [
      "samples with too many false positives: ['04C28102', '11C125675']\n",
      "samples with too many false negatives: ['03C15023', '01C09263']\n",
      "samples with too few true positives: []\n"
     ]
    },
    {
     "data": {
      "image/png": "[encoded data removed]",
      "text/plain": [
       "<matplotlib.figure.Figure at 0x174aaa908>"
      ]
     },
     "metadata": {},
     "output_type": "display_data"
    }
   ],
   "source": [
    "# gCNV\n",
    "plot_evaluation_summary_dict(raw_evaluation_summary_dicts[0])"
   ]
  },
  {
   "cell_type": "code",
   "execution_count": 54,
   "metadata": {},
   "outputs": [
    {
     "name": "stdout",
     "output_type": "stream",
     "text": [
      "samples with too many false positives: ['04C28102', '11C125675']\n",
      "samples with too many false negatives: ['01C09263', '01C07493', '04C24799', '10C111672', '03C15023']\n",
      "samples with too few true positives: ['10C112784', '04C33040', '03C17952', '11C120612', '10C107606']\n"
     ]
    },
    {
     "data": {
      "image/png": "[encoded data removed]",
      "text/plain": [
       "<matplotlib.figure.Figure at 0x1946433c8>"
      ]
     },
     "metadata": {},
     "output_type": "display_data"
    }
   ],
   "source": [
    "# CODEX\n",
    "plot_evaluation_summary_dict(raw_evaluation_summary_dicts[1])"
   ]
  }
 ],
 "metadata": {
  "kernelspec": {
   "display_name": "Python 3",
   "language": "python",
   "name": "python3"
  },
  "language_info": {
   "codemirror_mode": {
    "name": "ipython",
    "version": 3
   },
   "file_extension": ".py",
   "mimetype": "text/x-python",
   "name": "python",
   "nbconvert_exporter": "python",
   "pygments_lexer": "ipython3",
   "version": "3.6.3"
  }
 },
 "nbformat": 4,
 "nbformat_minor": 2
}
