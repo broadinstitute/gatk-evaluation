{
 "cells": [
  {
   "cell_type": "code",
   "execution_count": 1,
   "metadata": {},
   "outputs": [],
   "source": [
    "import vcf\n",
    "import os\n",
    "from typing import List, Optional, Set, Dict, Tuple\n",
    "import json\n",
    "\n",
    "import germline_cnv_evaluation as cnv_eval\n",
    "import logging\n",
    "\n",
    "logging.basicConfig(level=logging.INFO,\n",
    "                    format='%(asctime)s %(name)-12s %(levelname)-8s %(message)s',\n",
    "                    datefmt='%m-%d %H:%M')\n",
    "\n",
    "_logger = logging.getLogger(__name__)"
   ]
  },
  {
   "cell_type": "code",
   "execution_count": 2,
   "metadata": {},
   "outputs": [
    {
     "name": "stderr",
     "output_type": "stream",
     "text": [
      "04-02 16:42 germline_cnv_evaluation.io_codex_vcf INFO     Reading record number 0...\n",
      "04-02 16:42 germline_cnv_evaluation.io_codex_vcf INFO     Reading record number 500...\n",
      "04-02 16:42 germline_cnv_evaluation.io_codex_vcf INFO     Reading record number 1000...\n",
      "04-02 16:42 germline_cnv_evaluation.io_codex_vcf INFO     Reading record number 1500...\n",
      "04-02 16:43 germline_cnv_evaluation.io_codex_vcf INFO     Reading record number 2000...\n",
      "04-02 16:43 germline_cnv_evaluation.io_codex_vcf INFO     Reading record number 2500...\n",
      "04-02 16:43 germline_cnv_evaluation.io_codex_vcf INFO     Reading record number 3000...\n",
      "04-02 16:43 germline_cnv_evaluation.io_codex_vcf INFO     Obtaining included loci...\n",
      "04-02 16:43 germline_cnv_evaluation.io_codex_vcf INFO     Calculating variant classes...\n",
      "04-02 16:43 germline_cnv_evaluation.io_codex_vcf INFO     Removing non-variant calls...\n"
     ]
    }
   ],
   "source": [
    "root = \"/Volumes/dsde_working/mehrtash/gCNV_theano_eval_new/GPC2-WES/other_tools/CODEX\"\n",
    "codex_vcf_file = os.path.join(root, \"GPC2_CODEX_integer.vcf\")\n",
    "codex_interval_list_bed_file = os.path.join(root, \"agilent_targets_noxy.bed\")\n",
    "\n",
    "call_set, included_intervals = cnv_eval.load_codex_vcf_file(\n",
    "    codex_vcf_file, codex_interval_list_bed_file)\n",
    "\n",
    "cnv_eval.GenericCNVCallSet.to_pickle(\n",
    "    os.path.join(root, \"GPC2-WES_CODEX_segments_callset__CNV_eval_suite_ver__{0}__.pkl\".format(\n",
    "        cnv_eval.__version__)), call_set, included_intervals)"
   ]
  },
  {
   "cell_type": "code",
   "execution_count": null,
   "metadata": {},
   "outputs": [],
   "source": []
  }
 ],
 "metadata": {
  "kernelspec": {
   "display_name": "Python 3",
   "language": "python",
   "name": "python3"
  },
  "language_info": {
   "codemirror_mode": {
    "name": "ipython",
    "version": 3
   },
   "file_extension": ".py",
   "mimetype": "text/x-python",
   "name": "python",
   "nbconvert_exporter": "python",
   "pygments_lexer": "ipython3",
   "version": "3.6.3"
  }
 },
 "nbformat": 4,
 "nbformat_minor": 2
}
