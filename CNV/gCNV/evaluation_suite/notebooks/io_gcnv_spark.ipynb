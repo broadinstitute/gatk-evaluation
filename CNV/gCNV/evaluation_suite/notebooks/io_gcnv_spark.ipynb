{
 "cells": [
  {
   "cell_type": "code",
   "execution_count": null,
   "metadata": {},
   "outputs": [],
   "source": [
    "import os\n",
    "import logging\n",
    "from germline_cnv_evaluation import GenericCNVCallSet, load_gcnv_spark_vcf_file\n",
    "\n",
    "logging.basicConfig(level=logging.INFO,\n",
    "                    format='%(asctime)s %(name)-12s %(levelname)-8s %(message)s',\n",
    "                    datefmt='%m-%d %H:%M')\n",
    "\n",
    "targets_tsv_file = '../resources/TCGA-WES-gCNV-Spark/targets.tsv'\n",
    "sex_genotypes_tsv_file = '../resources/TCGA-WES-gCNV-Spark/sex_genotypes.tsv'\n",
    "\n",
    "gcnv_spark_even_call_set_dict, included_loci = load_gcnv_spark_vcf_file(\n",
    "    '../resources/TCGA-WES-gCNV-Spark/copy_ratio_genotypes_even_samples.vcf',\n",
    "    sex_genotypes_tsv_file,\n",
    "    targets_tsv_file)\n",
    "\n",
    "gcnv_spark_odd_call_set_dict, included_loci = load_gcnv_spark_vcf_file(\n",
    "    '../resources/TCGA-WES-gCNV-Spark/copy_ratio_genotypes_odd_samples.vcf',\n",
    "    sex_genotypes_tsv_file,\n",
    "    targets_tsv_file)\n",
    "\n",
    "gcnv_spark_call_set_dict = {**gcnv_spark_even_call_set_dict,\n",
    "                            **gcnv_spark_odd_call_set_dict}\n",
    "GenericCNVCallSet.to_pickle('./gcnv_spark_tcga_var_only_call_set_unmerged.pkl',\n",
    "                            gcnv_spark_call_set_dict, included_loci)"
   ]
  }
 ],
 "metadata": {
  "kernelspec": {
   "display_name": "Python 3",
   "language": "python",
   "name": "python3"
  },
  "language_info": {
   "codemirror_mode": {
    "name": "ipython",
    "version": 3
   },
   "file_extension": ".py",
   "mimetype": "text/x-python",
   "name": "python",
   "nbconvert_exporter": "python",
   "pygments_lexer": "ipython3",
   "version": "3.6.3"
  }
 },
 "nbformat": 4,
 "nbformat_minor": 2
}
