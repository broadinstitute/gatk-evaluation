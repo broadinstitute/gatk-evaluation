{
 "cells": [
  {
   "cell_type": "code",
   "execution_count": 2,
   "metadata": {},
   "outputs": [
    {
     "name": "stderr",
     "output_type": "stream",
     "text": [
      "12-12 13:17 gcnvkernel.io.io_metadata INFO     Loading germline contig ploidy and global read depth metadata...\n",
      "12-12 13:17 gcnvkernel.structs.metadata WARNING  Sample TCGA-HC-7744-10A-01D-2115-08 has an anomalous ploidy (3) for contig 6. The presence of unmasked PAR regions and regions of low mappability in the coverage metadata can result in unreliable ploidy designations. It is recommended that the user verifies this designation by orthogonal methods.\n",
      "12-12 13:17 gcnvkernel.structs.metadata WARNING  Sample TCGA-HC-8258-10A-01D-2260-08 has an anomalous ploidy (3) for contig 6. The presence of unmasked PAR regions and regions of low mappability in the coverage metadata can result in unreliable ploidy designations. It is recommended that the user verifies this designation by orthogonal methods.\n",
      "12-12 13:17 germline_cnv_evaluation.io_gcnv_python INFO     Loading chunk 1/5...\n",
      "12-12 13:17 gcnvkernel.io.io_intervals_and_counts INFO     The given interval list provides the following interval annotations: {'GC_CONTENT'}\n",
      "12-12 13:19 germline_cnv_evaluation.io_gcnv_python INFO     Loading chunk 2/5...\n",
      "12-12 13:19 gcnvkernel.io.io_intervals_and_counts INFO     The given interval list provides the following interval annotations: {'GC_CONTENT'}\n",
      "12-12 13:21 germline_cnv_evaluation.io_gcnv_python INFO     Loading chunk 3/5...\n",
      "12-12 13:21 gcnvkernel.io.io_intervals_and_counts INFO     The given interval list provides the following interval annotations: {'GC_CONTENT'}\n",
      "12-12 13:24 germline_cnv_evaluation.io_gcnv_python INFO     Loading chunk 4/5...\n",
      "12-12 13:24 germline_cnv_evaluation.io_gcnv_python WARNING  Error loading call set chunk from /Users/mehrtash/Dropbox/Codes/Python/CNVValidationSuite/resources/TCGA-WES-gCNV/gcnvkernel/denoising-calls/m=10.0_p=1e-7/shard-3; skipping\n",
      "12-12 13:24 germline_cnv_evaluation.io_gcnv_python INFO     Loading chunk 5/5...\n",
      "12-12 13:24 gcnvkernel.io.io_intervals_and_counts INFO     The given interval list provides the following interval annotations: {'GC_CONTENT'}\n",
      "12-12 13:25 germline_cnv_evaluation.io_gcnv_python INFO     Calculating variant frequencies...\n",
      "12-12 13:26 germline_cnv_evaluation.io_gcnv_python INFO     Calculate included loci...\n",
      "12-12 13:26 germline_cnv_evaluation.io_gcnv_python INFO     Calculating variant classes...\n",
      "12-12 13:26 germline_cnv_evaluation.io_gcnv_python INFO     Removing non-variant loci from call sets...\n"
     ]
    }
   ],
   "source": [
    "import os\n",
    "import logging\n",
    "from germline_cnv_evaluation import load_gcnv_python_calls, GenericCNVCallSet\n",
    "\n",
    "logging.basicConfig(level=logging.INFO,\n",
    "                    format='%(asctime)s %(name)-12s %(levelname)-8s %(message)s',\n",
    "                    datefmt='%m-%d %H:%M')\n",
    "\n",
    "root = '/Users/mehrtash/Dropbox/Codes/Python/CNVValidationSuite/resources/TCGA-WES-gCNV/gcnvkernel'\n",
    "pkl_output_path = '.'\n",
    "\n",
    "prefix = 'm=10.0_p=1e-7'\n",
    "ploidy_calls_path = os.path.join(root, 'ploidy-calls')\n",
    "denoising_calls_path = os.path.join(root, 'denoising-calls', prefix)\n",
    "gcnvkernel_denoising_chunks_call_paths = [os.path.join(denoising_calls_path, subdir)\n",
    "                                          for subdir in os.listdir(denoising_calls_path)]\n",
    "\n",
    "gcnv_call_set_dict, included_intervals = load_gcnv_python_calls(\n",
    "    gcnvkernel_denoising_chunks_call_paths, ploidy_calls_path)\n",
    "\n",
    "GenericCNVCallSet.to_pickle(\n",
    "    os.path.join(pkl_output_path, 'gcnv_tcga_{0}_var_only_call_set_unmerged.pkl'.format(prefix)),\n",
    "    gcnv_call_set_dict, included_intervals)"
   ]
  },
  {
   "cell_type": "code",
   "execution_count": null,
   "metadata": {},
   "outputs": [],
   "source": []
  }
 ],
 "metadata": {
  "kernelspec": {
   "display_name": "Python 3",
   "language": "python",
   "name": "python3"
  },
  "language_info": {
   "codemirror_mode": {
    "name": "ipython",
    "version": 3
   },
   "file_extension": ".py",
   "mimetype": "text/x-python",
   "name": "python",
   "nbconvert_exporter": "python",
   "pygments_lexer": "ipython3",
   "version": "3.6.3"
  }
 },
 "nbformat": 4,
 "nbformat_minor": 2
}
