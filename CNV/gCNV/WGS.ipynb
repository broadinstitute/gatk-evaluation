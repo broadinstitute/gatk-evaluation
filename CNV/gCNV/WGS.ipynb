{
 "cells": [
  {
   "cell_type": "code",
   "execution_count": 1,
   "metadata": {
    "scrolled": true
   },
   "outputs": [
    {
     "name": "stdout",
     "output_type": "stream",
     "text": [
      "Populating the interactive namespace from numpy and matplotlib\n"
     ]
    }
   ],
   "source": [
    "%pylab inline"
   ]
  },
  {
   "cell_type": "code",
   "execution_count": 2,
   "metadata": {},
   "outputs": [],
   "source": [
    "rc('font',**{'family':'sans-serif','sans-serif':['Helvetica'], 'size':12})\n",
    "rc('text', usetex=True)"
   ]
  },
  {
   "cell_type": "code",
   "execution_count": 3,
   "metadata": {
    "scrolled": true
   },
   "outputs": [
    {
     "name": "stderr",
     "output_type": "stream",
     "text": [
      "/home/slee/.pyenv/versions/anaconda-2.3.0/envs/gatk-dev/lib/python3.6/site-packages/h5py/__init__.py:36: FutureWarning: Conversion of the second argument of issubdtype from `float` to `np.floating` is deprecated. In future, it will be treated as `np.float64 == np.dtype(float).type`.\n",
      "  from ._conv import register_converters as _register_converters\n"
     ]
    }
   ],
   "source": [
    "import vcf\n",
    "import pandas as pd\n",
    "from germline_cnv_evaluation import GenericCNVCallSet, GenericCopyNumberVariant"
   ]
  },
  {
   "cell_type": "code",
   "execution_count": 4,
   "metadata": {
    "scrolled": true
   },
   "outputs": [],
   "source": [
    "hg00514_truth_bed_file = '/dsde/working/slee/gCNV-theano-eval-new/CHM-HGSV/truth/ILL_PB_RO.5.HG00514.bed'\n",
    "hg00733_truth_bed_file = '/dsde/working/slee/gCNV-theano-eval-new/CHM-HGSV/truth/ILL_PB_RO.5.HG00733.bed'\n",
    "na19240_truth_bed_file = '/dsde/working/slee/gCNV-theano-eval-new/CHM-HGSV/truth/ILL_PB_RO.5.NA19240.bed'"
   ]
  },
  {
   "cell_type": "code",
   "execution_count": 26,
   "metadata": {
    "scrolled": true
   },
   "outputs": [],
   "source": [
    "gcnv_tag = 'gCNV-cb7f9e41'\n",
    "# gcnv_tag = 'gCNV-6ceeb229-cyan'\n",
    "hg00514_gcnv_vcf_file = '/dsde/working/slee/gCNV-theano-eval-new/CHM-HGSV/{}/genotyped-segments-HG00514_1.cram.samtools.vcf'.format(gcnv_tag)\n",
    "hg00733_gcnv_vcf_file = '/dsde/working/slee/gCNV-theano-eval-new/CHM-HGSV/{}/genotyped-segments-HG00733_1.cram.samtools.vcf'.format(gcnv_tag)\n",
    "na19240_gcnv_vcf_file = '/dsde/working/slee/gCNV-theano-eval-new/CHM-HGSV/{}/genotyped-segments-NA19240.samtools.vcf'.format(gcnv_tag)"
   ]
  },
  {
   "cell_type": "code",
   "execution_count": 27,
   "metadata": {
    "scrolled": true
   },
   "outputs": [],
   "source": [
    "ms_tag = 'ModelSegments-3797f377-less-sensitive'\n",
    "hg00514_ms_seg_file = '/dsde/working/slee/gCNV-theano-eval-new/CHM-HGSV/{}/HG00514_1.cram.samtools.called.seg'.format(ms_tag)\n",
    "hg00733_ms_seg_file = '/dsde/working/slee/gCNV-theano-eval-new/CHM-HGSV/{}/HG00733_1.cram.samtools.called.seg'.format(ms_tag)\n",
    "na19240_ms_seg_file = '/dsde/working/slee/gCNV-theano-eval-new/CHM-HGSV/{}/NA19240.samtools.called.seg'.format(ms_tag)"
   ]
  },
  {
   "cell_type": "code",
   "execution_count": 28,
   "metadata": {
    "scrolled": true
   },
   "outputs": [],
   "source": [
    "def generate_truth_call_set_and_caller_map_from_bed(truth_bed_file, sample_name):\n",
    "    truth_bed_pd = pd.read_csv(truth_bed_file, sep='\\t', header=None)\n",
    "    call_set = GenericCNVCallSet(sample_name)\n",
    "    caller_map = {}\n",
    "    for record in truth_bed_pd.values:\n",
    "        contig = record[0]\n",
    "        start = int(record[1]) + 1\n",
    "        end = int(record[2])\n",
    "        sv_type = record[3]\n",
    "        var_copy_number = -1\n",
    "        if sv_type == 'DEL':\n",
    "            genotype = 'del'\n",
    "        elif sv_type == 'CNV':\n",
    "            genotype = 'cnv'\n",
    "        elif sv_type == 'DUP':\n",
    "            genotype = 'dup'\n",
    "        else:\n",
    "            continue\n",
    "        quality = 99\n",
    "        var = GenericCopyNumberVariant(contig, start, end, var_copy_number, quality, genotype=genotype)\n",
    "        callers = record[4].split(',')\n",
    "        call_set.add(var)\n",
    "        caller_map[var] = callers\n",
    "    \n",
    "    return call_set, caller_map"
   ]
  },
  {
   "cell_type": "code",
   "execution_count": 29,
   "metadata": {
    "scrolled": true
   },
   "outputs": [],
   "source": [
    "def generate_call_set_from_gcnv_vcf(gcnv_vcf_file):\n",
    "    allele_to_genotype_map = {'N': 'ref', '<DEL>': 'del', '<DUP>': 'dup'}\n",
    "    quality_mode: str = \"some\"\n",
    "    with open(gcnv_vcf_file, 'r') as f:\n",
    "        vcf_reader = vcf.Reader(f)\n",
    "        sample_name = vcf_reader.samples[0]\n",
    "        gcnv_call_set = GenericCNVCallSet(sample_name)\n",
    "\n",
    "        for record in vcf_reader:\n",
    "            info = record.INFO\n",
    "            contig = record.CHROM\n",
    "            start = record.start + 1\n",
    "            end = info['END']\n",
    "\n",
    "            var_copy_number = record.samples[0]['CN']\n",
    "            genotype_index = int(record.samples[0]['GT'])\n",
    "            allele = str(record.alleles[genotype_index])\n",
    "            num_intervals = record.samples[0]['NP']\n",
    "            genotype = allele_to_genotype_map[allele]\n",
    "\n",
    "            if quality_mode == \"some\":\n",
    "                quality = num_intervals * record.samples[0][\"QS\"]\n",
    "            elif quality_mode == \"all\":\n",
    "                quality = record.samples[0][\"QA\"]\n",
    "            else:\n",
    "                raise Exception(\"Unknown quality calculation mode -- valid options are \\\"some\\\" and \\\"all\\\"\")\n",
    "\n",
    "            # generate variant\n",
    "            if genotype != 'ref':\n",
    "                sample_var = GenericCopyNumberVariant(contig, start, end, var_copy_number, quality,\n",
    "                                                      genotype=genotype,\n",
    "                                                      num_intervals=num_intervals,\n",
    "                                                      variant_frequency=None,\n",
    "                                                      variant_class=None)\n",
    "                gcnv_call_set.add(sample_var)\n",
    "    \n",
    "    return gcnv_call_set"
   ]
  },
  {
   "cell_type": "code",
   "execution_count": 30,
   "metadata": {
    "scrolled": true
   },
   "outputs": [],
   "source": [
    "def generate_call_set_from_ms_seg(ms_seg_file, sample_name):\n",
    "    call_to_genotype_map = {'0': 'ref', '-': 'del', '+': 'dup'}\n",
    "    with open(ms_seg_file, 'r') as f:\n",
    "        ms_seg_pd = pd.read_csv(f, sep='\\t', comment='@')\n",
    "        ms_call_set = GenericCNVCallSet(sample_name)\n",
    "        for _, record in ms_seg_pd.iterrows():\n",
    "            contig = record['CONTIG']\n",
    "            start = record['START']\n",
    "            end = record['END']\n",
    "            var_copy_number = -1\n",
    "            genotype = call_to_genotype_map[record['CALL']]\n",
    "            if genotype == 'ref':\n",
    "                continue\n",
    "            quality = 99\n",
    "            var = GenericCopyNumberVariant(contig, start, end, var_copy_number, quality, genotype=genotype)\n",
    "            ms_call_set.add(var)\n",
    "    return ms_call_set"
   ]
  },
  {
   "cell_type": "code",
   "execution_count": 31,
   "metadata": {
    "scrolled": true
   },
   "outputs": [],
   "source": [
    "hg00514_tuple = ('HG00514_1', hg00514_truth_bed_file, hg00514_gcnv_vcf_file, hg00514_ms_seg_file)\n",
    "hg00733_tuple = ('HG00733_1', hg00733_truth_bed_file, hg00733_gcnv_vcf_file, hg00514_ms_seg_file)\n",
    "na19240_tuple = ('NA19240', na19240_truth_bed_file, na19240_gcnv_vcf_file, na19240_ms_seg_file)"
   ]
  },
  {
   "cell_type": "code",
   "execution_count": 32,
   "metadata": {
    "scrolled": true
   },
   "outputs": [],
   "source": [
    "# See https://www.biorxiv.org/content/biorxiv/early/2017/09/23/193144.full.pdf for discussion of the callers\n",
    "# included in the consensus call sets\n",
    "other_callers = ['Delly', 'ForestSV', 'liWGS', 'lumpy', 'Manta', 'MELT', 'novoBreak', 'Pindel', 'SVelter', 'VH', 'wham']\n",
    "cnv_callers = ['dCGH', 'GenomeStrip', 'GATK gCNV', 'GATK ModelSegments']"
   ]
  },
  {
   "cell_type": "code",
   "execution_count": 33,
   "metadata": {
    "scrolled": true
   },
   "outputs": [
    {
     "name": "stdout",
     "output_type": "stream",
     "text": [
      "Call sets created for HG00514_1\n",
      "Call sets created for HG00733_1\n",
      "Call sets created for NA19240\n"
     ]
    }
   ],
   "source": [
    "call_sets = {}\n",
    "for sample_name, truth_bed_file, gcnv_vcf_file, ms_seg_file in [hg00514_tuple, hg00733_tuple, na19240_tuple]:\n",
    "    truth_call_set, truth_caller_map = generate_truth_call_set_and_caller_map_from_bed(truth_bed_file, sample_name)\n",
    "    gcnv_call_set = generate_call_set_from_gcnv_vcf(gcnv_vcf_file)\n",
    "    ms_call_set = generate_call_set_from_ms_seg(ms_seg_file, sample_name)\n",
    "    call_sets[sample_name] = (truth_call_set, truth_caller_map, gcnv_call_set, ms_call_set)\n",
    "    print('Call sets created for', sample_name)"
   ]
  },
  {
   "cell_type": "code",
   "execution_count": 34,
   "metadata": {
    "scrolled": false
   },
   "outputs": [
    {
     "name": "stdout",
     "output_type": "stream",
     "text": [
      "0 13580\n",
      "gCNV: 0 1523 12057 12024 33 0.11215022091310752\n",
      "ModelSegments: 0 1883 11697 11499 198 0.138659793814433\n",
      "250 6882\n",
      "gCNV: 250 1523 5359 5326 33 0.22130194710839873\n",
      "ModelSegments: 250 1825 5057 4861 196 0.2651845393780878\n",
      "500 3012\n",
      "gCNV: 500 1458 1554 1527 27 0.48406374501992033\n",
      "ModelSegments: 500 1196 1816 1623 193 0.39707835325365204\n",
      "1000 2145\n",
      "gCNV: 1000 1227 918 899 19 0.5720279720279721\n",
      "ModelSegments: 1000 974 1171 996 175 0.4540792540792541\n",
      "2000 1389\n",
      "gCNV: 2000 872 517 504 13 0.6277897768178545\n",
      "ModelSegments: 2000 649 740 608 132 0.46724262059035276\n",
      "3000 954\n",
      "gCNV: 3000 637 317 313 4 0.6677148846960168\n",
      "ModelSegments: 3000 466 488 408 80 0.48846960167714887\n",
      "4000 761\n",
      "gCNV: 4000 513 248 246 2 0.6741130091984231\n",
      "ModelSegments: 4000 355 406 340 66 0.4664914586070959\n",
      "5000 610\n",
      "gCNV: 5000 398 212 210 2 0.6524590163934426\n",
      "ModelSegments: 5000 278 332 280 52 0.4557377049180328\n",
      "6000 492\n",
      "gCNV: 6000 317 175 174 1 0.6443089430894309\n",
      "ModelSegments: 6000 218 274 233 41 0.44308943089430897\n",
      "7000 318\n",
      "gCNV: 7000 207 111 110 1 0.6509433962264151\n",
      "ModelSegments: 7000 149 169 146 23 0.46855345911949686\n",
      "8000 224\n",
      "gCNV: 8000 148 76 75 1 0.6607142857142857\n",
      "ModelSegments: 8000 104 120 99 21 0.4642857142857143\n",
      "9000 180\n",
      "gCNV: 9000 115 65 64 1 0.6388888888888888\n",
      "ModelSegments: 9000 83 97 79 18 0.46111111111111114\n",
      "10000 147\n",
      "gCNV: 10000 89 58 57 1 0.6054421768707483\n",
      "ModelSegments: 10000 61 86 70 16 0.41496598639455784\n"
     ]
    }
   ],
   "source": [
    "from collections import Counter, defaultdict\n",
    "\n",
    "min_overlap_fraction = 0.5\n",
    "min_truth_lengths = [0, 250, 500, 1000, 2000, 3000, 4000, 5000, 6000, 7000, 8000, 9000, 10000]\n",
    "\n",
    "sensitivity_curves = defaultdict(list)\n",
    "for min_truth_length in min_truth_lengths:\n",
    "    num_tot = 0\n",
    "    num_TP_gcnv = 0\n",
    "    num_FN_gcnv = 0\n",
    "    num_miss_gcnv = 0\n",
    "    num_wrong_gcnv = 0\n",
    "    num_TP_ms = 0\n",
    "    num_FN_ms = 0\n",
    "    num_miss_ms = 0\n",
    "    num_wrong_ms = 0\n",
    "    num_TP_callers = Counter()\n",
    "    \n",
    "    for truth_call_set, truth_caller_map, gcnv_call_set, ms_call_set in call_sets.values():\n",
    "        for contig in gcnv_call_set.contig_set:\n",
    "            for var in truth_call_set.iter_in_contig(contig):\n",
    "                if var.length_gte_value(min_truth_length):\n",
    "                    num_tot += 1\n",
    "                    for caller in truth_caller_map[var]:\n",
    "                        num_TP_callers[caller] += 1\n",
    "                    overlapping_vars_gcnv = gcnv_call_set.get_overlapping_variants_set(var, 'reciprocal', min_overlap_fraction=min_overlap_fraction)\n",
    "                    if len(overlapping_vars_gcnv) == 0:\n",
    "                        num_miss_gcnv += 1\n",
    "                        num_FN_gcnv += 1\n",
    "                        continue\n",
    "                    for overlapping_var_gcnv, _ in overlapping_vars_gcnv:\n",
    "                        if not ((var.genotype == 'del' and overlapping_var_gcnv.genotype == 'del') or \n",
    "                                (var.genotype == 'dup' and overlapping_var_gcnv.genotype == 'dup') or\n",
    "                                (var.genotype == 'cnv' and (overlapping_var_gcnv.genotype == 'del' or overlapping_var_gcnv.genotype == 'dup'))):\n",
    "                            num_wrong_gcnv += 1\n",
    "                            num_FN_gcnv += 1\n",
    "                            break\n",
    "                    else:\n",
    "                        num_TP_gcnv += 1\n",
    "                        \n",
    "            for var in truth_call_set.iter_in_contig(contig):\n",
    "                if var.length_gte_value(min_truth_length):\n",
    "                    overlapping_vars_ms = ms_call_set.get_overlapping_variants_set(var, 'reciprocal', min_overlap_fraction=min_overlap_fraction)\n",
    "                    if len(overlapping_vars_ms) == 0:\n",
    "                        num_miss_ms += 1\n",
    "                        num_FN_ms += 1\n",
    "                        continue\n",
    "                    for overlapping_var_ms, _ in overlapping_vars_ms:\n",
    "                        if not ((var.genotype == 'del' and overlapping_var_ms.genotype == 'del') or \n",
    "                                (var.genotype == 'dup' and overlapping_var_ms.genotype == 'dup') or\n",
    "                                (var.genotype == 'cnv' and (overlapping_var_ms.genotype == 'del' or overlapping_var_ms.genotype == 'dup'))):\n",
    "                            num_wrong_ms += 1\n",
    "                            num_FN_ms += 1\n",
    "                            break\n",
    "                    else:\n",
    "                        num_TP_ms += 1\n",
    "                      \n",
    "    print(min_truth_length, num_tot)\n",
    "    print('gCNV:', min_truth_length, num_TP_gcnv, num_FN_gcnv, num_miss_gcnv, num_wrong_gcnv, num_TP_gcnv / num_tot)\n",
    "    sensitivity_curves['GATK gCNV'].append((min_truth_length, num_TP_gcnv / num_tot))\n",
    "    \n",
    "    print('ModelSegments:', min_truth_length, num_TP_ms, num_FN_ms, num_miss_ms, num_wrong_ms, num_TP_ms / num_tot)\n",
    "    sensitivity_curves['GATK ModelSegments'].append((min_truth_length, num_TP_ms / num_tot))\n",
    "    \n",
    "    for caller in other_callers + ['GenomeStrip']:\n",
    "        sensitivity_curves[caller].append((min_truth_length, num_TP_callers[caller] / num_tot))"
   ]
  },
  {
   "cell_type": "code",
   "execution_count": 36,
   "metadata": {
    "scrolled": false
   },
   "outputs": [
    {
     "name": "stderr",
     "output_type": "stream",
     "text": [
      "/home/slee/.pyenv/versions/anaconda-2.3.0/envs/gatk-dev/lib/python3.6/site-packages/matplotlib/font_manager.py:1328: UserWarning: findfont: Font family ['sans-serif'] not found. Falling back to DejaVu Sans\n",
      "  (prop.get_family(), self.defaultFamily[fontext]))\n",
      "/home/slee/.pyenv/versions/anaconda-2.3.0/envs/gatk-dev/lib/python3.6/site-packages/matplotlib/font_manager.py:1328: UserWarning: findfont: Font family ['sans-serif'] not found. Falling back to DejaVu Sans\n",
      "  (prop.get_family(), self.defaultFamily[fontext]))\n"
     ]
    },
    {
     "data": {
      "image/png": "[encoded data removed]",
      "text/plain": [
       "<Figure size 432x288 with 1 Axes>"
      ]
     },
     "metadata": {},
     "output_type": "display_data"
    }
   ],
   "source": [
    "caller_to_label_map = {'GenomeStrip': 'GenomeSTRiP', \n",
    "                       'VH': 'VariantHunter', \n",
    "                       'wham': 'whamg', \n",
    "                       'ForestSV': 'forestSV',\n",
    "                       'Manta': 'manta',\n",
    "                       'lumpy': 'LUMPY',\n",
    "                       'Delly': 'DELLY'}\n",
    "\n",
    "other_callers_to_plot = ['Manta', 'lumpy', 'liWGS', 'Delly']\n",
    "\n",
    "other_callers_sorted_by_sensitivity_at_10kb = sorted(other_callers_to_plot, \n",
    "                                                     key=lambda c: sensitivity_curves[c][-1][1],\n",
    "                                                     reverse=True)\n",
    "\n",
    "for caller in ['GATK gCNV', 'GenomeStrip'] + other_callers_sorted_by_sensitivity_at_10kb:\n",
    "# for caller in ['GATK gCNV', 'GenomeStrip', 'GATK ModelSegments'] + other_callers_sorted_by_sensitivity_at_10kb:\n",
    "    sensitivity_curve = sensitivity_curves[caller]\n",
    "    min_truth_lengths, sensitivity = zip(*sensitivity_curve)\n",
    "    xlim([0, max(min_truth_lengths)])\n",
    "    ylim([0, 1.01])\n",
    "    plot(min_truth_lengths, sensitivity, \n",
    "         label=caller_to_label_map[caller] if caller in caller_to_label_map.keys() else caller,\n",
    "         zorder=1 if caller in cnv_callers else 0,\n",
    "         lw=3 if caller in cnv_callers else 1,\n",
    "         ls='solid' if caller in cnv_callers else 'dashed',\n",
    "         marker='.',\n",
    "         ms=12 if caller in cnv_callers else 6)\n",
    "xlabel('Minimum Event Length (bp)', fontsize=14)\n",
    "ylabel('Sensitivity', fontsize=14)\n",
    "tick_params(axis='both', which='major', labelsize=16)\n",
    "tick_params(axis='both', which='minor', labelsize=16)\n",
    "lgd = legend(bbox_to_anchor=(1, 1), fontsize=12)\n",
    "savefig('/dsde/working/slee/gCNV-theano-eval-new/CHM-HGSV/all-samples-{}.png'.format(gcnv_tag), \n",
    "        bbox_extra_artists=(lgd,), bbox_inches='tight')\n",
    "savefig('/dsde/working/slee/gCNV-theano-eval-new/CHM-HGSV/all-samples-{}.pdf'.format(gcnv_tag), \n",
    "        bbox_extra_artists=(lgd,), bbox_inches='tight')\n",
    "# savefig('/dsde/working/slee/gCNV-theano-eval-new/CHM-HGSV/all-samples-{0}-{1}.png'.format(gcnv_tag, ms_tag), \n",
    "#         bbox_extra_artists=(lgd,), bbox_inches='tight')\n",
    "# savefig('/dsde/working/slee/gCNV-theano-eval-new/CHM-HGSV/all-samples-{0}-{1}.pdf'.format(gcnv_tag, ms_tag), \n",
    "#         bbox_extra_artists=(lgd,), bbox_inches='tight')\n",
    "show()"
   ]
  }
 ],
 "metadata": {
  "kernelspec": {
   "display_name": "Python 3",
   "language": "python",
   "name": "python3"
  },
  "language_info": {
   "codemirror_mode": {
    "name": "ipython",
    "version": 3
   },
   "file_extension": ".py",
   "mimetype": "text/x-python",
   "name": "python",
   "nbconvert_exporter": "python",
   "pygments_lexer": "ipython3",
   "version": "3.6.3"
  }
 },
 "nbformat": 4,
 "nbformat_minor": 2
}
