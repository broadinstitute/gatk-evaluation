{
 "cells": [
  {
   "cell_type": "code",
   "execution_count": 1,
   "metadata": {
    "scrolled": true
   },
   "outputs": [
    {
     "name": "stdout",
     "output_type": "stream",
     "text": [
      "Populating the interactive namespace from numpy and matplotlib\n"
     ]
    }
   ],
   "source": [
    "%pylab inline"
   ]
  },
  {
   "cell_type": "code",
   "execution_count": 2,
   "metadata": {
    "scrolled": true
   },
   "outputs": [],
   "source": [
    "import vcf\n",
    "import pandas as pd\n",
    "from germline_cnv_evaluation import GenericCNVCallSet, GenericCopyNumberVariant"
   ]
  },
  {
   "cell_type": "code",
   "execution_count": 3,
   "metadata": {
    "collapsed": true,
    "scrolled": true
   },
   "outputs": [],
   "source": [
    "hg00514_truth_bed_file = '/dsde/working/slee/gCNV-theano-eval-new/CHM-HGSV/ILL_PB_RO.5.HG00514.bed'\n",
    "hg00733_truth_bed_file = '/dsde/working/slee/gCNV-theano-eval-new/CHM-HGSV/ILL_PB_RO.5.HG00733.bed'\n",
    "na19240_truth_bed_file = '/dsde/working/slee/gCNV-theano-eval-new/CHM-HGSV/ILL_PB_RO.5.NA19240.bed'"
   ]
  },
  {
   "cell_type": "code",
   "execution_count": 4,
   "metadata": {
    "collapsed": true,
    "scrolled": true
   },
   "outputs": [],
   "source": [
    "hg00514_gcnv_vcf_file = '/dsde/working/slee/gCNV-theano-eval-new/CHM-HGSV/genotyped-segments-HG00514_1.cram.samtools.vcf'\n",
    "hg00733_gcnv_vcf_file = '/dsde/working/slee/gCNV-theano-eval-new/CHM-HGSV/genotyped-segments-HG00733_1.cram.samtools.vcf'\n",
    "na19240_gcnv_vcf_file = '/dsde/working/slee/gCNV-theano-eval-new/CHM-HGSV/genotyped-segments-NA19240.samtools.vcf'"
   ]
  },
  {
   "cell_type": "code",
   "execution_count": 5,
   "metadata": {
    "collapsed": true,
    "scrolled": true
   },
   "outputs": [],
   "source": [
    "hg00514_ms_seg_file = '/dsde/working/slee/gCNV-theano-eval-new/CHM-HGSV/HG00514_1.cram.samtools.called.seg'\n",
    "hg00733_ms_seg_file = '/dsde/working/slee/gCNV-theano-eval-new/CHM-HGSV/HG00733_1.cram.samtools.called.seg'\n",
    "na19240_ms_seg_file = '/dsde/working/slee/gCNV-theano-eval-new/CHM-HGSV/NA19240.samtools.called.seg'"
   ]
  },
  {
   "cell_type": "code",
   "execution_count": 6,
   "metadata": {
    "collapsed": true,
    "scrolled": true
   },
   "outputs": [],
   "source": [
    "def generate_truth_call_set_and_caller_map_from_bed(truth_bed_file, sample_name):\n",
    "    truth_bed_pd = pd.read_csv(truth_bed_file, sep='\\t', header=None)\n",
    "    call_set = GenericCNVCallSet(sample_name)\n",
    "    caller_map = {}\n",
    "    for record in truth_bed_pd.values:\n",
    "        contig = record[0]\n",
    "        start = int(record[1]) + 1\n",
    "        end = int(record[2])\n",
    "        sv_type = record[3]\n",
    "        var_copy_number = -1\n",
    "        if sv_type == 'DEL':\n",
    "            genotype = 'del'\n",
    "        elif sv_type == 'CNV':\n",
    "            genotype = 'cnv'\n",
    "        else:\n",
    "            continue\n",
    "        quality = 99\n",
    "        var = GenericCopyNumberVariant(contig, start, end, var_copy_number, quality, genotype=genotype)\n",
    "        callers = record[4].split(',')\n",
    "        call_set.add(var)\n",
    "        caller_map[var] = callers\n",
    "    \n",
    "    return call_set, caller_map"
   ]
  },
  {
   "cell_type": "code",
   "execution_count": 7,
   "metadata": {
    "collapsed": true,
    "scrolled": true
   },
   "outputs": [],
   "source": [
    "def generate_call_set_from_gcnv_vcf(gcnv_vcf_file):\n",
    "    allele_to_genotype_map = {'N': 'ref', '<DEL>': 'del', '<DUP>': 'dup'}\n",
    "    quality_mode: str = \"some\"\n",
    "    with open(gcnv_vcf_file, 'r') as f:\n",
    "        vcf_reader = vcf.Reader(f)\n",
    "        sample_name = vcf_reader.samples[0]\n",
    "        gcnv_call_set = GenericCNVCallSet(sample_name)\n",
    "\n",
    "        for record in vcf_reader:\n",
    "            info = record.INFO\n",
    "            contig = record.CHROM\n",
    "            start = record.start + 1\n",
    "            end = info['END']\n",
    "\n",
    "            var_copy_number = record.samples[0]['CN']\n",
    "            genotype_index = int(record.samples[0]['GT'])\n",
    "            allele = str(record.alleles[genotype_index])\n",
    "            num_intervals = record.samples[0]['NP']\n",
    "            genotype = allele_to_genotype_map[allele]\n",
    "\n",
    "            if quality_mode == \"some\":\n",
    "                quality = num_intervals * record.samples[0][\"QS\"]\n",
    "            elif quality_mode == \"all\":\n",
    "                quality = record.samples[0][\"QA\"]\n",
    "            else:\n",
    "                raise Exception(\"Unknown quality calculation mode -- valid options are \\\"some\\\" and \\\"all\\\"\")\n",
    "\n",
    "            # generate variant\n",
    "            if genotype != 'ref':\n",
    "                sample_var = GenericCopyNumberVariant(contig, start, end, var_copy_number, quality,\n",
    "                                                      genotype=genotype,\n",
    "                                                      num_intervals=num_intervals,\n",
    "                                                      variant_frequency=None,\n",
    "                                                      variant_class=None)\n",
    "                gcnv_call_set.add(sample_var)\n",
    "    \n",
    "    return gcnv_call_set"
   ]
  },
  {
   "cell_type": "code",
   "execution_count": 8,
   "metadata": {
    "collapsed": true,
    "scrolled": true
   },
   "outputs": [],
   "source": [
    "def generate_call_set_from_ms_seg(ms_seg_file, sample_name):\n",
    "    call_to_genotype_map = {'0': 'ref', '-': 'del', '+': 'dup'}\n",
    "    with open(ms_seg_file, 'r') as f:\n",
    "        ms_seg_pd = pd.read_csv(f, sep='\\t', comment='@')\n",
    "        ms_call_set = GenericCNVCallSet(sample_name)\n",
    "        for _, record in ms_seg_pd.iterrows():\n",
    "            contig = record['CONTIG']\n",
    "            start = record['START']\n",
    "            end = record['END']\n",
    "            var_copy_number = -1\n",
    "            genotype = call_to_genotype_map[record['CALL']]\n",
    "            if genotype == 'ref':\n",
    "                continue\n",
    "            quality = 99\n",
    "            var = GenericCopyNumberVariant(contig, start, end, var_copy_number, quality, genotype=genotype)\n",
    "            ms_call_set.add(var)\n",
    "    return ms_call_set"
   ]
  },
  {
   "cell_type": "code",
   "execution_count": 9,
   "metadata": {
    "collapsed": true,
    "scrolled": true
   },
   "outputs": [],
   "source": [
    "hg00514_tuple = ('HG00514_1', hg00514_truth_bed_file, hg00514_gcnv_vcf_file, hg00514_ms_seg_file)\n",
    "hg00733_tuple = ('HG00733_1', hg00733_truth_bed_file, hg00733_gcnv_vcf_file, hg00514_ms_seg_file)\n",
    "na19240_tuple = ('NA19240', na19240_truth_bed_file, na19240_gcnv_vcf_file, na19240_ms_seg_file)"
   ]
  },
  {
   "cell_type": "code",
   "execution_count": 10,
   "metadata": {
    "collapsed": true,
    "scrolled": true
   },
   "outputs": [],
   "source": [
    "# See https://www.biorxiv.org/content/biorxiv/early/2017/09/23/193144.full.pdf for discussion of the callers\n",
    "# included in the consensus call sets\n",
    "sv_callers = ['ForestSV', 'lumpy', 'Manta', 'novoBreak', 'Pindel', 'SVelter', 'VH', 'wham']\n",
    "liwgs_callers = ['Delly', 'liWGS', 'MELT']\n",
    "cnv_callers = ['dCGH', 'GenomeStrip', 'GATK gCNV', 'GATK ModelSegments']"
   ]
  },
  {
   "cell_type": "code",
   "execution_count": 11,
   "metadata": {
    "scrolled": true
   },
   "outputs": [
    {
     "name": "stdout",
     "output_type": "stream",
     "text": [
      "Call sets created for HG00514_1\n",
      "Call sets created for HG00733_1\n",
      "Call sets created for NA19240\n"
     ]
    }
   ],
   "source": [
    "call_sets = {}\n",
    "for sample_name, truth_bed_file, gcnv_vcf_file, ms_seg_file in [hg00514_tuple, hg00733_tuple, na19240_tuple]:\n",
    "    truth_call_set, truth_caller_map = generate_truth_call_set_and_caller_map_from_bed(truth_bed_file, sample_name)\n",
    "    gcnv_call_set = generate_call_set_from_gcnv_vcf(gcnv_vcf_file)\n",
    "    ms_call_set = generate_call_set_from_ms_seg(ms_seg_file, sample_name)\n",
    "    call_sets[sample_name] = (truth_call_set, truth_caller_map, gcnv_call_set, ms_call_set)\n",
    "    print('Call sets created for', sample_name)"
   ]
  },
  {
   "cell_type": "code",
   "execution_count": 12,
   "metadata": {
    "scrolled": true
   },
   "outputs": [
    {
     "name": "stdout",
     "output_type": "stream",
     "text": [
      "gCNV: 0 1557 11853 11805 48 0.11610738255033556\n",
      "ModelSegments: 0 4062 9348 8483 865 0.3029082774049217\n",
      "gCNV: 250 1539 5261 5222 39 0.2263235294117647\n",
      "ModelSegments: 250 3008 3792 3317 475 0.4423529411764706\n",
      "gCNV: 500 1455 1511 1478 33 0.49055967633175995\n",
      "ModelSegments: 500 1471 1495 1120 375 0.4959541469993257\n",
      "gCNV: 1000 1224 904 885 19 0.575187969924812\n",
      "ModelSegments: 1000 1057 1071 787 284 0.4967105263157895\n",
      "gCNV: 2000 868 509 496 13 0.6303558460421206\n",
      "ModelSegments: 2000 629 748 555 193 0.4567901234567901\n",
      "gCNV: 3000 634 309 305 4 0.672322375397667\n",
      "ModelSegments: 3000 418 525 414 111 0.4432661717921527\n",
      "gCNV: 4000 510 240 238 2 0.68\n",
      "ModelSegments: 4000 301 449 361 88 0.4013333333333333\n",
      "gCNV: 5000 396 207 205 2 0.6567164179104478\n",
      "ModelSegments: 5000 226 377 313 64 0.3747927031509121\n",
      "gCNV: 6000 314 171 170 1 0.6474226804123712\n",
      "ModelSegments: 6000 167 318 266 52 0.3443298969072165\n",
      "gCNV: 7000 204 107 106 1 0.6559485530546624\n",
      "ModelSegments: 7000 100 211 185 26 0.3215434083601286\n",
      "gCNV: 8000 145 73 72 1 0.6651376146788991\n",
      "ModelSegments: 8000 50 168 146 22 0.22935779816513763\n",
      "gCNV: 9000 113 62 61 1 0.6457142857142857\n",
      "ModelSegments: 9000 38 137 120 17 0.21714285714285714\n",
      "gCNV: 10000 88 55 54 1 0.6153846153846154\n",
      "ModelSegments: 10000 25 118 105 13 0.17482517482517482\n"
     ]
    }
   ],
   "source": [
    "from collections import Counter, defaultdict\n",
    "\n",
    "min_overlap_fraction = 0.5\n",
    "min_truth_lengths = [0, 250, 500, 1000, 2000, 3000, 4000, 5000, 6000, 7000, 8000, 9000, 10000]\n",
    "\n",
    "sensitivity_curves = defaultdict(list)\n",
    "for min_truth_length in min_truth_lengths:\n",
    "    num_tot = 0\n",
    "    num_TP_gcnv = 0\n",
    "    num_FN_gcnv = 0\n",
    "    num_miss_gcnv = 0\n",
    "    num_wrong_gcnv = 0\n",
    "    num_TP_ms = 0\n",
    "    num_FN_ms = 0\n",
    "    num_miss_ms = 0\n",
    "    num_wrong_ms = 0\n",
    "    num_TP_callers = Counter()\n",
    "    \n",
    "    for truth_call_set, truth_caller_map, gcnv_call_set, ms_call_set in call_sets.values():\n",
    "        for contig in gcnv_call_set.contig_set:\n",
    "            for var in truth_call_set.iter_in_contig(contig):\n",
    "                if var.length_gte_value(min_truth_length):\n",
    "                    num_tot += 1\n",
    "                    for caller in truth_caller_map[var]:\n",
    "                        num_TP_callers[caller] += 1\n",
    "                    overlapping_vars_gcnv = gcnv_call_set.get_overlapping_variants_set(var, 'other', min_overlap_fraction=min_overlap_fraction)\n",
    "                    if len(overlapping_vars_gcnv) == 0:\n",
    "                        num_miss_gcnv += 1\n",
    "                        num_FN_gcnv += 1\n",
    "                        continue\n",
    "                    for overlapping_var_gcnv, _ in overlapping_vars_gcnv:\n",
    "                        if not ((var.genotype == 'del' and overlapping_var_gcnv.genotype == 'del') or \n",
    "                                (var.genotype == 'cnv' and (overlapping_var_gcnv.genotype == 'del' or overlapping_var_gcnv.genotype == 'dup'))):\n",
    "                            num_wrong_gcnv += 1\n",
    "                            num_FN_gcnv += 1\n",
    "                            break\n",
    "                    else:\n",
    "                        num_TP_gcnv += 1\n",
    "                        \n",
    "            for var in truth_call_set.iter_in_contig(contig):\n",
    "                if var.length_gte_value(min_truth_length):\n",
    "                    overlapping_vars_ms = ms_call_set.get_overlapping_variants_set(var, 'other', min_overlap_fraction=min_overlap_fraction)\n",
    "                    if len(overlapping_vars_ms) == 0:\n",
    "                        num_miss_ms += 1\n",
    "                        num_FN_ms += 1\n",
    "                        continue\n",
    "                    for overlapping_var_ms, _ in overlapping_vars_ms:\n",
    "                        if not ((var.genotype == 'del' and overlapping_var_ms.genotype == 'del') or \n",
    "                                (var.genotype == 'cnv' and (overlapping_var_ms.genotype == 'del' or overlapping_var_ms.genotype == 'dup'))):\n",
    "                            num_wrong_ms += 1\n",
    "                            num_FN_ms += 1\n",
    "                            break\n",
    "                    else:\n",
    "                        num_TP_ms += 1\n",
    "                        \n",
    "    print('gCNV:', min_truth_length, num_TP_gcnv, num_FN_gcnv, num_miss_gcnv, num_wrong_gcnv, num_TP_gcnv / num_tot)\n",
    "    sensitivity_curves['GATK gCNV'].append((min_truth_length, num_TP_gcnv / num_tot))\n",
    "    \n",
    "    print('ModelSegments:', min_truth_length, num_TP_ms, num_FN_ms, num_miss_ms, num_wrong_ms, num_TP_ms / num_tot)\n",
    "    sensitivity_curves['GATK ModelSegments'].append((min_truth_length, num_TP_ms / num_tot))\n",
    "    \n",
    "    for caller in sv_callers + ['GenomeStrip']:\n",
    "        sensitivity_curves[caller].append((min_truth_length, num_TP_callers[caller] / num_tot))"
   ]
  },
  {
   "cell_type": "code",
   "execution_count": 30,
   "metadata": {
    "scrolled": false
   },
   "outputs": [
    {
     "data": {
      "image/png": "[encoded data removed]",
      "text/plain": [
       "<matplotlib.figure.Figure at 0x7f7d1b4de2b0>"
      ]
     },
     "metadata": {},
     "output_type": "display_data"
    }
   ],
   "source": [
    "caller_to_label_map = {'GenomeStrip': 'GenomeSTRiP', \n",
    "                       'VH': 'VariantHunter', \n",
    "                       'wham': 'whamg', \n",
    "                       'ForestSV': 'forestSV',\n",
    "                       'Manta': 'manta',\n",
    "                       'lumpy': 'LUMPY'}\n",
    "\n",
    "sv_callers_sorted_by_sensitivity_at_10kb = sorted(sv_callers, \n",
    "                                                  key=lambda c: sensitivity_curves[c][-1][1],\n",
    "                                                  reverse=True)\n",
    "for caller in ['GATK gCNV', 'GenomeStrip'] + sv_callers_sorted_by_sensitivity_at_10kb:\n",
    "    sensitivity_curve = sensitivity_curves[caller]\n",
    "    min_truth_lengths, sensitivity = zip(*sensitivity_curve)\n",
    "    xlim([0, max(min_truth_lengths)])\n",
    "    ylim([0, 1.01])\n",
    "    plot(min_truth_lengths, sensitivity, \n",
    "         label=caller_to_label_map[caller] if caller in caller_to_label_map.keys() else caller,\n",
    "         zorder=1 if caller in cnv_callers else 0,\n",
    "         lw=4 if caller in cnv_callers else 1)\n",
    "xlabel('minimum event length (bp)', fontsize=14)\n",
    "ylabel('sensitivity', fontsize=14)\n",
    "tick_params(axis='both', which='major', labelsize=12)\n",
    "lgd = legend(bbox_to_anchor=(1, 1), fontsize=12)\n",
    "savefig('/dsde/working/slee/gCNV-theano-eval-new/CHM-HGSV/all-samples.eps', bbox_extra_artists=(lgd,), bbox_inches='tight')\n",
    "show()"
   ]
  },
  {
   "cell_type": "code",
   "execution_count": null,
   "metadata": {
    "collapsed": true
   },
   "outputs": [],
   "source": []
  }
 ],
 "metadata": {
  "kernelspec": {
   "display_name": "Python 3",
   "language": "python",
   "name": "python3"
  },
  "language_info": {
   "codemirror_mode": {
    "name": "ipython",
    "version": 3
   },
   "file_extension": ".py",
   "mimetype": "text/x-python",
   "name": "python",
   "nbconvert_exporter": "python",
   "pygments_lexer": "ipython3",
   "version": "3.6.2"
  }
 },
 "nbformat": 4,
 "nbformat_minor": 2
}
