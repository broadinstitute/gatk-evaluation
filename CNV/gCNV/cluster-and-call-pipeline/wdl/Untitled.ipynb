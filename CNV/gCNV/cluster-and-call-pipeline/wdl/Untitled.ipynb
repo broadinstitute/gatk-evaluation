{
 "cells": [
  {
   "cell_type": "code",
   "execution_count": 1,
   "metadata": {},
   "outputs": [],
   "source": [
    "import pandas as pd\n",
    "import numpy as np"
   ]
  },
  {
   "cell_type": "code",
   "execution_count": 3,
   "metadata": {},
   "outputs": [],
   "source": [
    "np.random.seed(0)\n",
    "\n",
    "test_clustering_file = 'clustering_table.tsv'\n",
    "test_blacklist_samples_file = 'blacklist_samples.txt'\n",
    "\n",
    "test_clustering_df = pd.DataFrame(columns=['SAMPLE_NAME', 'CLUSTER_1', 'CLUSTER_2', 'CLUSTER_3'])\n",
    "test_num_clusters = 3\n",
    "test_num_samples = 10000\n",
    "test_sample_names = np.array(['sample_{:d}'.format(i) for i in range(1, test_num_samples + 1)])\n",
    "test_unnorm_responsibilities = np.random.random(size=(test_num_samples, test_num_clusters))\n",
    "test_responsibilities = test_unnorm_responsibilities / np.sum(test_unnorm_responsibilities, axis=1)[:, np.newaxis]\n",
    "test_clustering_df['SAMPLE_NAME'] = test_sample_names\n",
    "test_clustering_df[['CLUSTER_1', 'CLUSTER_2', 'CLUSTER_3']] = test_responsibilities\n",
    "test_clustering_df.to_csv(test_clustering_file, sep='\\t', index=False)\n",
    "\n",
    "test_blacklist_fraction = 0.05\n",
    "test_blacklist_samples = test_sample_names[1 == np.random.choice([0, 1], \n",
    "                                                                 p=[1 - test_blacklist_fraction, test_blacklist_fraction], \n",
    "                                                                 size=test_num_samples)]\n",
    "np.savetxt(test_blacklist_samples_file, test_blacklist_samples, fmt='%s')"
   ]
  },
  {
   "cell_type": "code",
   "execution_count": null,
   "metadata": {},
   "outputs": [],
   "source": []
  }
 ],
 "metadata": {
  "kernelspec": {
   "display_name": "Python 3",
   "language": "python",
   "name": "python3"
  },
  "language_info": {
   "codemirror_mode": {
    "name": "ipython",
    "version": 3
   },
   "file_extension": ".py",
   "mimetype": "text/x-python",
   "name": "python",
   "nbconvert_exporter": "python",
   "pygments_lexer": "ipython3",
   "version": "3.6.7"
  }
 },
 "nbformat": 4,
 "nbformat_minor": 2
}
